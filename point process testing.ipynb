{
 "cells": [
  {
   "cell_type": "code",
   "execution_count": 1,
   "id": "5a8d17e9",
   "metadata": {},
   "outputs": [],
   "source": [
    "import numpy as np\n",
    "import pandas as pd\n",
    "import torch\n"
   ]
  },
  {
   "cell_type": "code",
   "execution_count": 369,
   "id": "c32ea2a7",
   "metadata": {},
   "outputs": [],
   "source": [
    "import math"
   ]
  },
  {
   "cell_type": "code",
   "execution_count": 591,
   "id": "3fec5c65",
   "metadata": {},
   "outputs": [],
   "source": [
    "df = pd.read_csv(\"del_1.csv\")\n",
    "#df = df[(df['i']% 20 == 0) & (df['i'] > 0)]"
   ]
  },
  {
   "cell_type": "code",
   "execution_count": 592,
   "id": "3995f07e",
   "metadata": {},
   "outputs": [],
   "source": [
    "eps = 0.06\n",
    "adivdiv = torch.tensor(-1,dtype=torch.float64, requires_grad = True)\n",
    "adeldel = torch.tensor(-1,dtype=torch.float64,requires_grad = True)\n",
    "adivdel = torch.tensor(1,dtype=torch.float64,requires_grad = True)\n",
    "adeldiv = torch.tensor(1,dtype=torch.float64,requires_grad = True)\n",
    "mudiv = torch.tensor(1,dtype=torch.float64,requires_grad = True)\n",
    "mudel = torch.tensor(1,dtype=torch.float64,requires_grad = True)\n",
    "bdivdiv = torch.tensor(1,dtype=torch.float64,requires_grad = True)\n",
    "bdeldel = torch.tensor(1,dtype=torch.float64,requires_grad = True)\n",
    "bdivdel = torch.tensor(1,dtype=torch.float64,requires_grad = True)\n",
    "bdeldiv = torch.tensor(1,dtype=torch.float64,requires_grad = True)"
   ]
  },
  {
   "cell_type": "code",
   "execution_count": 593,
   "id": "f4b0a050",
   "metadata": {},
   "outputs": [],
   "source": [
    "for i in range(0,301,20):\n",
    "    df[f\"div{i}\"] = 0\n",
    "    df[f\"del{i}\"] = 0"
   ]
  },
  {
   "cell_type": "code",
   "execution_count": 594,
   "id": "cc252d86",
   "metadata": {},
   "outputs": [],
   "source": [
    "for cell in df.index:\n",
    "    i = df.at[cell,'i']\n",
    "    if i % 20 != 0:\n",
    "        continue\n",
    "    cell_id = df.at[cell,'id']\n",
    "    for j in range(0,i,20):\n",
    "        snapshot = df[(df['i']==j)&(df['next']!=\"none\")&(df['id']!=df.at[cell,'id'])]\n",
    "        distances = np.sqrt(np.power(snapshot['x'] - df.at[cell,'x'],2) + np.power(snapshot['y'] - df.at[cell, 'y'],2))\n",
    "        close = distances[distances < eps].index\n",
    "        counts = snapshot[snapshot.index.isin(close)]['next'].value_counts()\n",
    "        try:\n",
    "            df.loc[cell, f\"div{i - j}\"] = counts['div']\n",
    "        except:\n",
    "            df.loc[cell, f\"div{i - j}\"] = 0\n",
    "        try:\n",
    "            df.loc[cell, f\"del{i - j}\"] = counts['del']\n",
    "        except:\n",
    "            df.loc[cell, f\"del{i - j}\"] = 0\n"
   ]
  },
  {
   "cell_type": "code",
   "execution_count": null,
   "id": "01de96ec",
   "metadata": {},
   "outputs": [],
   "source": [
    "def kernel(dt, b):\n",
    "    \"\"\"\n",
    "    Need to test this to be fair\n",
    "    \"\"\"\n",
    "    bdt = torch.mul(b, dt)\n",
    "    first = torch.pow(torch.mul(bdt, torch.sqrt(torch.mul(2, np.pi))),-1)\n",
    "    num = - torch.pow(torch.log(0.5 * dt),2)\n",
    "    den = torch.mul(2, torch.pow(b,2))\n",
    "    second = torch.exp(torch.div(num, den))\n",
    "    return torch.mul(first, second)"
   ]
  },
  {
   "cell_type": "code",
   "execution_count": null,
   "id": "da7ae63a",
   "metadata": {},
   "outputs": [],
   "source": [
    "def conditional_intensity_div(dels,mudiv, adivdiv, adeldiv, bdivdiv, bdeldiv):\n",
    "    \"\"\"\n",
    "    pass divs, dels as lists/tensors \n",
    "    \"\"\"\n",
    "    intensity = torch.tensor(0,dtype=torch.float,requires_grad=True)\n",
    "    #kernel_multipliers_div = torch.tensor([kernel(torch.tensor(i+1), bdivdiv) for i in range(len(divs))],dtype=torch.float64,requires_grad=True)\n",
    "    #multipliers_div = torch.mul(kernel_multipliers_div, adivdiv)\n",
    "    kernel_multipliers_del = torch.tensor([kernel(torch.tensor(i+1), bdeldiv) for i in range(len(dels))],dtype=torch.float64,requires_grad=True)\n",
    "    multipliers_del = torch.mul(kernel_multipliers_del, adeldiv)\n",
    "    #intensity = torch.add(intensity,torch.dot(multipliers_div, divs))\n",
    "    intensity = torch.add(intensity, torch.dot(multipliers_del, dels))\n",
    "    intensity = torch.add(intensity, mudiv)\n",
    "    return intensity"
   ]
  },
  {
   "cell_type": "code",
   "execution_count": 569,
   "id": "7ba63350",
   "metadata": {},
   "outputs": [],
   "source": [
    "def conditional_intensity_del(divs,mudel, adivdiv, adivdel, bdivdiv, bdivdel):\n",
    "    \"\"\"\n",
    "    pass divs, dels as lists/tensors \n",
    "    \"\"\"\n",
    "    intensity = torch.tensor(0,dtype=torch.float,requires_grad=True)\n",
    "    kernel_multipliers_div = torch.tensor([kernel(torch.tensor(i+1), bdivdel) for i in range(len(dels))],dtype=torch.float64,requires_grad=True)\n",
    "    multipliers_div = torch.mul(kernel_multipliers_div, adivdel)\n",
    "    intensity = torch.add(intensity, torch.dot(multipliers_div, divs))\n",
    "    intensity = torch.add(intensity, mudel)\n",
    "    return intensity"
   ]
  },
  {
   "cell_type": "code",
   "execution_count": null,
   "id": "8baf5cab",
   "metadata": {},
   "outputs": [],
   "source": [
    "def get_likelihood_div(cellid,mudiv, adivdiv, adeldiv, bdivdiv, bdeldiv):\n",
    "    likelihood = torch.tensor(0, dtype=torch.float, requires_grad=True)\n",
    "    cell = df[df['id']==cellid].copy()\n",
    "    cell['intensity'] = 0\n",
    "    for index in cell.index:\n",
    "        #divs = torch.tensor([df.at[index,f\"div{i}\"] for i in range(20,301,20)],dtype=torch.float64)    \n",
    "        dels = torch.tensor([df.at[index,f\"del{i}\"] for i in range(20,301,20)],dtype=torch.float64)\n",
    "        cell.loc[index, 'intensity'] = conditional_intensity_div(dels,mudiv, adivdiv, adeldiv, bdivdiv, bdeldiv).item()\n",
    "        if cell.at[index, 'next'] == \"div\":\n",
    "            likelihood = torch.add(likelihood, torch.log(torch.tensor(cell.at[index,'intensity'])))\n",
    "        likelihood = torch.add(likelihood,torch.mul(-1,cell.at[index,'intensity']))\n",
    "    likelihood = torch.div(likelihood, len(cell))\n",
    "    return likelihood"
   ]
  },
  {
   "cell_type": "code",
   "execution_count": 562,
   "id": "b1b07347",
   "metadata": {},
   "outputs": [],
   "source": [
    "def get_likelihood_del(cellid,mudel, adivdiv, adeldiv, bdivdiv, bdeldiv):\n",
    "    likelihood = torch.tensor(0, dtype=torch.float, requires_grad=True)\n",
    "    cell = df[df['id']==cellid].copy()\n",
    "    cell['intensity'] = 0\n",
    "    for index in cell.index:\n",
    "        divs = torch.tensor([df.at[index,f\"div{i}\"] for i in range(20,301,20)],dtype=torch.float64)    \n",
    "        #dels = torch.tensor([df.at[index,f\"del{i}\"] for i in range(20,301,20)],dtype=torch.float64)\n",
    "        cell.loc[index, 'intensity'] = conditional_intensity_del(divs,mudel, adivdiv, adivdel, bdivdiv, bdivdel).item()\n",
    "        if cell.at[index, 'next'] == \"del\":\n",
    "            likelihood = torch.add(likelihood, torch.log(torch.tensor(cell.at[index,'intensity'])))\n",
    "        likelihood = torch.add(likelihood,torch.mul(-1,cell.at[index,'intensity']))\n",
    "    likelihood = torch.div(likelihood, len(cell))\n",
    "    return likelihood"
   ]
  },
  {
   "cell_type": "code",
   "execution_count": 546,
   "id": "74ebe347",
   "metadata": {},
   "outputs": [],
   "source": [
    "def get_total_likelihood_del(x):\n",
    "    mudel = torch.tensor(x[0],dtype=torch.float64)\n",
    "    adivdiv = torch.tensor(0,dtype=torch.float64)\n",
    "    adivdel = torch.tensor(x[1],dtype=torch.float64)\n",
    "    bdivdiv = torch.tensor(0,dtype=torch.float64)\n",
    "    bdivdel = torch.tensor(x[2],dtype=torch.float64)\n",
    "    likelihood = torch.tensor(0, dtype=torch.float64, requires_grad=True)\n",
    "    for c in ids:\n",
    "        likelihood = torch.add(likelihood, get_likelihood_del(c, mudel, adivdiv, adivdel, bdivdiv, bdivdel))\n",
    "    print (x, likelihood.item())\n",
    "    return - likelihood.item()"
   ]
  },
  {
   "cell_type": "code",
   "execution_count": null,
   "id": "e8f6f2ea",
   "metadata": {},
   "outputs": [],
   "source": [
    "def get_total_likelihood(x):\n",
    "    mudiv = torch.tensor(x[0],dtype=torch.float64)\n",
    "    adivdiv = torch.tensor(0,dtype=torch.float64)\n",
    "    adeldiv = torch.tensor(x[1],dtype=torch.float64)\n",
    "    bdivdiv = torch.tensor(0,dtype=torch.float64)\n",
    "    bdeldiv = torch.tensor(x[2],dtype=torch.float64)\n",
    "    likelihood = torch.tensor(0, dtype=torch.float64, requires_grad=True)\n",
    "    for c in ids:\n",
    "        likelihood = torch.add(likelihood, get_likelihood_div(c, mudiv, adivdiv, adeldiv, bdivdiv, bdeldiv))\n",
    "    print (x, likelihood.item())\n",
    "    return - likelihood.item()"
   ]
  },
  {
   "cell_type": "code",
   "execution_count": null,
   "id": "93f4b6bb",
   "metadata": {},
   "outputs": [],
   "source": [
    "from scipy.optimize import minimize"
   ]
  },
  {
   "cell_type": "code",
   "execution_count": 570,
   "id": "8daf0dc0",
   "metadata": {},
   "outputs": [
    {
     "name": "stdout",
     "output_type": "stream",
     "text": [
      "[0.1, 0.05, 0.1] -416.2093827266364\n"
     ]
    },
    {
     "data": {
      "text/plain": [
       "416.2093827266364"
      ]
     },
     "execution_count": 570,
     "metadata": {},
     "output_type": "execute_result"
    }
   ],
   "source": [
    "get_total_likelihood_del([0.1, 0.05, 0.1])"
   ]
  },
  {
   "cell_type": "code",
   "execution_count": 572,
   "id": "8d924a38",
   "metadata": {},
   "outputs": [
    {
     "name": "stdout",
     "output_type": "stream",
     "text": [
      "[0.1  0.05 0.1 ] -416.2093827266364\n",
      "[0.10000001 0.05       0.1       ] -416.209384288249\n",
      "[0.1        0.05000001 0.1       ] -416.2093827266364\n",
      "[0.1        0.05       0.10000001] -416.2093827266364\n",
      "[1.e-05 5.e-02 1.e-01] -638.5947619613273\n",
      "[1.001e-05 5.000e-02 1.000e-01] -638.564978719749\n",
      "[1.000000e-05 5.000001e-02 1.000000e-01] -638.5947619613273\n",
      "[1.0000000e-05 5.0000000e-02 1.0000001e-01] -638.5947619613273\n",
      "[0.06505534 0.05       0.1       ] -409.7934606508315\n",
      "[0.06505535 0.05       0.1       ] -409.7934627829446\n",
      "[0.06505534 0.05000001 0.1       ] -409.7934606508315\n",
      "[0.06505534 0.05       0.10000001] -409.7934606508315\n",
      "[0.0217439 0.05      0.1      ] -419.9032294183348\n",
      "[0.02174391 0.05       0.1       ] -419.9032208224544\n",
      "[0.0217439  0.05000001 0.1       ] -419.9032294183348\n",
      "[0.0217439  0.05       0.10000001] -419.9032294183348\n",
      "[0.05327689 0.05       0.1       ] -409.4438217171106\n",
      "[0.0532769 0.05      0.1      ] -409.4438210236032\n",
      "[0.05327689 0.05000001 0.1       ] -409.4438217171106\n",
      "[0.05327689 0.05       0.10000001] -409.4438217171106\n",
      "[0.06764545 0.05       0.1       ] -410.0293426048665\n",
      "[0.06764546 0.05       0.1       ] -410.0293444838691\n",
      "[0.06764545 0.05000001 0.1       ] -410.0293426048665\n",
      "[0.06764545 0.05       0.10000001] -410.0293426048665\n",
      "[0.0582001 0.05      0.1      ] -409.43123360836796\n",
      "[0.05820011 0.05       0.1       ] -409.4312326681986\n",
      "[0.0582001  0.05000001 0.1       ] -409.43123360836796\n",
      "[0.0582001  0.05       0.10000001] -409.43123360836796\n",
      "[0.06070786 0.05       0.1       ] -409.51647183808325\n",
      "[0.06070787 0.05       0.1       ] -409.5164726123016\n",
      "[0.06070786 0.05000001 0.1       ] -409.51647183808325\n",
      "[0.06070786 0.05       0.10000001] -409.51647183808325\n",
      "[0.05885749 0.05       0.1       ] -409.44795756372775\n",
      "[0.0588575 0.05      0.1      ] -409.4479568698066\n",
      "[0.05885749 0.05000001 0.1       ] -409.44795756372775\n",
      "[0.05885749 0.05       0.10000001] -409.44795756372775\n",
      "[0.05831058 0.05       0.1       ] -409.43375697483333\n",
      "[0.05831059 0.05       0.1       ] -409.43375773234584\n",
      "[0.05831058 0.05000001 0.1       ] -409.43375697483333\n",
      "[0.05831058 0.05       0.10000001] -409.43375697483333\n",
      "[0.0582001 0.05      0.1      ] -409.43123360836796\n",
      "[0.05820011 0.05       0.1       ] -409.4312326681986\n",
      "[0.0582001  0.05000001 0.1       ] -409.43123360836796\n",
      "[0.0582001  0.05       0.10000001] -409.43123360836796\n",
      "[0.07767917 0.05       0.1       ] -411.3706148722997\n",
      "[0.07767918 0.05       0.1       ] -411.37061706152053\n",
      "[0.07767917 0.05000001 0.1       ] -411.3706148722997\n",
      "[0.07767917 0.05       0.10000001] -411.3706148722997\n",
      "[0.06191372 0.05       0.1       ] -409.57749945752425\n",
      "[0.06191373 0.05       0.1       ] -409.5774995315482\n",
      "[0.06191372 0.05000001 0.1       ] -409.57749945752425\n",
      "[0.06191372 0.05       0.10000001] -409.57749945752425\n",
      "[0.05889112 0.05       0.1       ] -409.4489213913962\n",
      "[0.05889113 0.05       0.1       ] -409.4489211407567\n",
      "[0.05889112 0.05000001 0.1       ] -409.4489213913962\n",
      "[0.05889112 0.05       0.10000001] -409.4489213913962\n",
      "[0.05833555 0.05       0.1       ] -409.4343432785409\n",
      "[0.05833556 0.05       0.1       ] -409.4343429297949\n",
      "[0.05833555 0.05000001 0.1       ] -409.4343432785409\n",
      "[0.05833555 0.05       0.10000001] -409.4343432785409\n",
      "[0.05822657 0.05       0.1       ] -409.43182776912954\n",
      "[0.05822658 0.05       0.1       ] -409.43182786905106\n",
      "[0.05822657 0.05000001 0.1       ] -409.43182776912954\n",
      "[0.05822657 0.05       0.10000001] -409.43182776912954\n",
      "[0.05820633 0.05       0.1       ] -409.4313712170368\n",
      "[0.05820634 0.05       0.1       ] -409.43137150902066\n",
      "[0.05820633 0.05000001 0.1       ] -409.4313712170368\n",
      "[0.05820633 0.05       0.10000001] -409.4313712170368\n",
      "[0.0582017 0.05      0.1      ] -409.43126814125895\n",
      "[0.05820171 0.05       0.1       ] -409.4312688169498\n",
      "[0.0582017  0.05000001 0.1       ] -409.43126814125895\n",
      "[0.0582017  0.05       0.10000001] -409.43126814125895\n",
      "[0.05820059 0.05       0.1       ] -409.43124358260974\n",
      "[0.0582006 0.05      0.1      ] -409.43124349214554\n",
      "[0.05820059 0.05000001 0.1       ] -409.43124358260974\n",
      "[0.05820059 0.05       0.10000001] -409.43124358260974\n",
      "[0.05820021 0.05       0.1       ] -409.43123503641493\n",
      "[0.05820022 0.05       0.1       ] -409.4312351590418\n",
      "[0.05820021 0.05000001 0.1       ] -409.43123503641493\n",
      "[0.05820021 0.05       0.10000001] -409.43123503641493\n",
      "[0.05820013 0.05       0.1       ] -409.43123286892927\n",
      "[0.05820014 0.05       0.1       ] -409.43123290362234\n",
      "[0.05820013 0.05000001 0.1       ] -409.43123286892927\n",
      "[0.05820013 0.05       0.10000001] -409.43123286892927\n"
     ]
    },
    {
     "data": {
      "text/plain": [
       "      fun: 409.43123286892927\n",
       " hess_inv: <3x3 LbfgsInvHessProduct with dtype=float64>\n",
       "      jac: array([3.46930733, 0.        , 0.        ])\n",
       "  message: 'CONVERGENCE: REL_REDUCTION_OF_F_<=_FACTR*EPSMCH'\n",
       "     nfev: 84\n",
       "      nit: 3\n",
       "     njev: 21\n",
       "   status: 0\n",
       "  success: True\n",
       "        x: array([0.05820013, 0.05      , 0.1       ])"
      ]
     },
     "execution_count": 572,
     "metadata": {},
     "output_type": "execute_result"
    }
   ],
   "source": [
    "minimize(get_total_likelihood_del, [0.1, 0.05, 0.1], options={\"maxiter\":10},method=\"L-BFGS-B\",bounds =[(0.00001,None), (0,None),(None,None)])"
   ]
  },
  {
   "cell_type": "code",
   "execution_count": 573,
   "id": "5636c911",
   "metadata": {},
   "outputs": [
    {
     "name": "stdout",
     "output_type": "stream",
     "text": [
      "[0.09886096 0.04943048 1.09999919] -415.9132777729534\n",
      "[0.09886097 0.04943048 1.09999919] -415.91327943275735\n",
      "[0.09886096 0.04943049 1.09999919] -415.9132777729534\n",
      "[0.09886096 0.04943048 1.0999992 ] -415.9132777729534\n",
      "[1.00000000e-05 4.94304800e-02 1.09999919e+00] -638.5947619613273\n",
      "[1.00100000e-05 4.94304800e-02 1.09999919e+00] -638.564978719749\n",
      "[1.00000000e-05 4.94304900e-02 1.09999919e+00] -638.5947619613273\n",
      "[1.0000000e-05 4.9430480e-02 1.0999992e+00] -638.5947619613273\n",
      "[0.06424016 0.04943048 1.09999919] -409.7297889244023\n",
      "[0.06424017 0.04943048 1.09999919] -409.7297897299622\n",
      "[0.06424016 0.04943049 1.09999919] -409.7297889244023\n",
      "[0.06424016 0.04943048 1.0999992 ] -409.7297889244023\n",
      "[0.03159244 0.04943048 1.09999919] -413.727447258335\n",
      "[0.03159245 0.04943048 1.09999919] -413.72744329420703\n",
      "[0.03159244 0.04943049 1.09999919] -413.727447258335\n",
      "[0.03159244 0.04943048 1.0999992 ] -413.727447258335\n",
      "[0.05686635 0.04943048 1.09999919] -409.4100911384769\n",
      "[0.05686636 0.04943048 1.09999919] -409.41009206049614\n",
      "[0.05686635 0.04943049 1.09999919] -409.4100911384769\n",
      "[0.05686635 0.04943048 1.0999992 ] -409.4100911384769\n",
      "[0.05287037 0.04943048 1.09999919] -409.4564986681822\n",
      "[0.05287038 0.04943048 1.09999919] -409.45649740830663\n",
      "[0.05287037 0.04943049 1.09999919] -409.4564986681822\n",
      "[0.05287037 0.04943048 1.0999992 ] -409.4564986681822\n",
      "[0.05506279 0.04943048 1.09999919] -409.4099274865025\n",
      "[0.0550628  0.04943048 1.09999919] -409.409928059611\n",
      "[0.05506279 0.04943049 1.09999919] -409.4099274865025\n",
      "[0.05506279 0.04943048 1.0999992 ] -409.4099274865025\n",
      "[0.03243599 0.04943048 1.09999919] -413.3724133505808\n",
      "[0.032436   0.04943048 1.09999919] -413.37241029483766\n",
      "[0.03243599 0.04943049 1.09999919] -413.3724133505808\n",
      "[0.03243599 0.04943048 1.0999992 ] -413.3724133505808\n",
      "[0.05304135 0.04943048 1.09999919] -409.4509363747291\n",
      "[0.05304136 0.04943048 1.09999919] -409.45093657204984\n",
      "[0.05304135 0.04943049 1.09999919] -409.4509363747291\n",
      "[0.05304135 0.04943048 1.0999992 ] -409.4509363747291\n",
      "[0.05471061 0.04943048 1.09999919] -409.41386164190874\n",
      "[0.05471062 0.04943048 1.09999919] -409.4138615554634\n",
      "[0.05471061 0.04943049 1.09999919] -409.41386164190874\n",
      "[0.05471061 0.04943048 1.0999992 ] -409.41386164190874\n",
      "[0.05497294 0.04943048 1.09999919] -409.4108043064326\n",
      "[0.05497295 0.04943048 1.09999919] -409.4108043448326\n",
      "[0.05497294 0.04943049 1.09999919] -409.4108043064326\n",
      "[0.05497294 0.04943048 1.0999992 ] -409.4108043064326\n",
      "[0.05504106 0.04943048 1.09999919] -409.41013248516435\n",
      "[0.05504107 0.04943048 1.09999919] -409.4101308631962\n",
      "[0.05504106 0.04943049 1.09999919] -409.41013248516435\n",
      "[0.05504106 0.04943048 1.0999992 ] -409.41013248516435\n",
      "[0.05505213 0.04943048 1.09999919] -409.4100263159434\n",
      "[0.05505214 0.04943048 1.09999919] -409.41002579221094\n",
      "[0.05505213 0.04943049 1.09999919] -409.4100263159434\n",
      "[0.05505213 0.04943048 1.0999992 ] -409.4100263159434\n",
      "[0.05505882 0.04943048 1.09999919] -409.4099635142829\n",
      "[0.05505883 0.04943048 1.09999919] -409.40996401916277\n",
      "[0.05505882 0.04943049 1.09999919] -409.4099635142829\n",
      "[0.05505882 0.04943048 1.0999992 ] -409.4099635142829\n",
      "[0.05506207 0.04943048 1.09999919] -409.40993332042984\n",
      "[0.05506208 0.04943048 1.09999919] -409.40993279335936\n",
      "[0.05506207 0.04943049 1.09999919] -409.40993332042984\n",
      "[0.05506207 0.04943048 1.0999992 ] -409.40993332042984\n",
      "[0.05506251 0.04943048 1.09999919] -409.40992887999187\n",
      "[0.05506252 0.04943048 1.09999919] -409.4099297602637\n",
      "[0.05506251 0.04943049 1.09999919] -409.40992887999187\n",
      "[0.05506251 0.04943048 1.0999992 ] -409.40992887999187\n",
      "[0.05506274 0.04943048 1.09999919] -409.40992839654547\n",
      "[0.05506275 0.04943048 1.09999919] -409.40992873078807\n",
      "[0.05506274 0.04943049 1.09999919] -409.40992839654547\n",
      "[0.05506274 0.04943048 1.0999992 ] -409.40992839654547\n",
      "[0.05506278 0.04943048 1.09999919] -409.4099276688625\n",
      "[0.05506279 0.04943048 1.09999919] -409.40992793782164\n",
      "[0.05506278 0.04943049 1.09999919] -409.4099276688625\n",
      "[0.05506278 0.04943048 1.0999992 ] -409.4099276688625\n",
      "[0.05506279 0.04943048 1.09999919] -409.4099276317373\n",
      "[0.0550628  0.04943048 1.09999919] -409.40992755577\n",
      "[0.05506279 0.04943049 1.09999919] -409.4099276317373\n",
      "[0.05506279 0.04943048 1.0999992 ] -409.4099276317373\n",
      "[0.05506279 0.04943048 1.09999919] -409.40992753351384\n",
      "[0.0550628  0.04943048 1.09999919] -409.4099270381155\n",
      "[0.05506279 0.04943049 1.09999919] -409.40992753351384\n",
      "[0.05506279 0.04943048 1.0999992 ] -409.40992753351384\n",
      "[0.05506279 0.04943048 1.09999919] -409.40992748710977\n",
      "[0.0550628  0.04943048 1.09999919] -409.40992806021796\n",
      "[0.05506279 0.04943049 1.09999919] -409.40992748710977\n",
      "[0.05506279 0.04943048 1.0999992 ] -409.40992748710977\n",
      "[0.05506279 0.04943048 1.09999919] -409.40992748650984\n",
      "[0.0550628  0.04943048 1.09999919] -409.4099280596184\n",
      "[0.05506279 0.04943049 1.09999919] -409.40992748650984\n",
      "[0.05506279 0.04943048 1.0999992 ] -409.40992748650984\n",
      "[0.05506279 0.04943048 1.09999919] -409.40992748650257\n",
      "[0.0550628  0.04943048 1.09999919] -409.40992805961105\n",
      "[0.05506279 0.04943049 1.09999919] -409.40992748650257\n",
      "[0.05506279 0.04943048 1.0999992 ] -409.40992748650257\n",
      "[0.05506279 0.04943048 1.09999919] -409.4099274865025\n",
      "[0.0550628  0.04943048 1.09999919] -409.409928059611\n",
      "[0.05506279 0.04943049 1.09999919] -409.4099274865025\n",
      "[0.05506279 0.04943048 1.0999992 ] -409.4099274865025\n",
      "[0.05506279 0.04943048 1.09999919] -409.4099274865025\n",
      "[0.0550628  0.04943048 1.09999919] -409.409928059611\n",
      "[0.05506279 0.04943049 1.09999919] -409.4099274865025\n",
      "[0.05506279 0.04943048 1.0999992 ] -409.4099274865025\n",
      "[0.05506279 0.04943048 1.09999919] -409.40992748650257\n",
      "[0.0550628  0.04943048 1.09999919] -409.40992805961105\n",
      "[0.05506279 0.04943049 1.09999919] -409.40992748650257\n",
      "[0.05506279 0.04943048 1.0999992 ] -409.40992748650257\n",
      "[0.05506279 0.04943048 1.09999919] -409.4099274865025\n",
      "[0.0550628  0.04943048 1.09999919] -409.409928059611\n",
      "[0.05506279 0.04943049 1.09999919] -409.4099274865025\n",
      "[0.05506279 0.04943048 1.0999992 ] -409.4099274865025\n",
      "[1.00000000e-05 4.94304800e-02 1.09999919e+00] -638.5947619613273\n",
      "[1.00100000e-05 4.94304800e-02 1.09999919e+00] -638.564978719749\n",
      "[1.00000000e-05 4.94304900e-02 1.09999919e+00] -638.5947619613273\n",
      "[1.0000000e-05 4.9430480e-02 1.0999992e+00] -638.5947619613273\n",
      "[0.03655077 0.04943048 1.09999919] -411.92329458807023\n",
      "[0.03655078 0.04943048 1.09999919] -411.9232920670414\n",
      "[0.03655077 0.04943049 1.09999919] -411.92329458807023\n",
      "[0.03655077 0.04943048 1.0999992 ] -411.92329458807023\n",
      "[0.05299863 0.04943048 1.09999919] -409.4522954030549\n",
      "[0.05299864 0.04943048 1.09999919] -409.45229537085703\n",
      "[0.05299863 0.04943049 1.09999919] -409.4522954030549\n",
      "[0.05299863 0.04943048 1.0999992 ] -409.4522954030549\n",
      "[0.05465407 0.04943048 1.09999919] -409.41461743934207\n",
      "[0.05465408 0.04943048 1.09999919] -409.4146177807836\n",
      "[0.05465407 0.04943049 1.09999919] -409.41461743934207\n",
      "[0.05465407 0.04943048 1.0999992 ] -409.41461743934207\n",
      "[0.05498498 0.04943048 1.09999919] -409.4106818281351\n",
      "[0.05498499 0.04943048 1.09999919] -409.41068252883304\n",
      "[0.05498498 0.04943049 1.09999919] -409.4106818281351\n",
      "[0.05498498 0.04943048 1.0999992 ] -409.4106818281351\n",
      "[0.05505029 0.04943048 1.09999919] -409.410042859652\n",
      "[0.0550503  0.04943048 1.09999919] -409.4100441399514\n",
      "[0.05505029 0.04943049 1.09999919] -409.410042859652\n",
      "[0.05505029 0.04943048 1.0999992 ] -409.410042859652\n",
      "[0.05506125 0.04943048 1.09999919] -409.4099411757326\n",
      "[0.05506126 0.04943048 1.09999919] -409.4099414747927\n",
      "[0.05506125 0.04943049 1.09999919] -409.4099411757326\n",
      "[0.05506125 0.04943048 1.0999992 ] -409.4099411757326\n",
      "[0.05506247 0.04943048 1.09999919] -409.409929436377\n",
      "[0.05506248 0.04943048 1.09999919] -409.40992958896413\n",
      "[0.05506247 0.04943049 1.09999919] -409.409929436377\n",
      "[0.05506247 0.04943048 1.0999992 ] -409.409929436377\n",
      "[0.05506271 0.04943048 1.09999919] -409.4099276145538\n",
      "[0.05506272 0.04943048 1.09999919] -409.4099283351012\n",
      "[0.05506271 0.04943049 1.09999919] -409.4099276145538\n",
      "[0.05506271 0.04943048 1.0999992 ] -409.4099276145538\n",
      "[0.05506277 0.04943048 1.09999919] -409.40992782572044\n",
      "[0.05506278 0.04943048 1.09999919] -409.4099275229464\n",
      "[0.05506277 0.04943049 1.09999919] -409.40992782572044\n",
      "[0.05506277 0.04943048 1.0999992 ] -409.40992782572044\n",
      "[0.05506279 0.04943048 1.09999919] -409.40992690346604\n",
      "[0.0550628  0.04943048 1.09999919] -409.409927272604\n"
     ]
    },
    {
     "name": "stdout",
     "output_type": "stream",
     "text": [
      "[0.05506279 0.04943049 1.09999919] -409.40992690346604\n",
      "[0.05506279 0.04943048 1.0999992 ] -409.40992690346604\n"
     ]
    },
    {
     "data": {
      "text/plain": [
       "      fun: 409.40992690346604\n",
       " hess_inv: <3x3 LbfgsInvHessProduct with dtype=float64>\n",
       "      jac: array([36.91379788,  0.        ,  0.        ])\n",
       "  message: 'CONVERGENCE: REL_REDUCTION_OF_F_<=_FACTR*EPSMCH'\n",
       "     nfev: 152\n",
       "      nit: 3\n",
       "     njev: 38\n",
       "   status: 0\n",
       "  success: True\n",
       "        x: array([0.05506279, 0.04943048, 1.09999919])"
      ]
     },
     "execution_count": 573,
     "metadata": {},
     "output_type": "execute_result"
    }
   ],
   "source": [
    "minimize(get_total_likelihood_del, [0.09886096, 0.04943048, 1.09999919], options={\"maxiter\":10},method=\"L-BFGS-B\",bounds =[(0.00001,None), (0,None),(None,None)])"
   ]
  },
  {
   "cell_type": "code",
   "execution_count": 527,
   "id": "7b944bce",
   "metadata": {},
   "outputs": [],
   "source": [
    "for index in df.index:\n",
    "    dels = torch.tensor([df.at[index,f\"del{i}\"] for i in range(20,301,20)],dtype=torch.float64)\n",
    "    df.loc[index, 'intensity'] = conditional_intensity_del(dels,torch.tensor(0.09886096,dtype=torch.float64), adivdiv, torch.tensor(0.04943048,dtype=torch.float64), bdivdiv, torch.tensor(1.09999919,dtype=torch.float64)).item()"
   ]
  },
  {
   "cell_type": "code",
   "execution_count": 528,
   "id": "99ae5e0a",
   "metadata": {},
   "outputs": [
    {
     "data": {
      "text/plain": [
       "0.09886096"
      ]
     },
     "execution_count": 528,
     "metadata": {},
     "output_type": "execute_result"
    }
   ],
   "source": [
    "df['intensity'].min()"
   ]
  },
  {
   "cell_type": "code",
   "execution_count": 529,
   "id": "3c553ca8",
   "metadata": {},
   "outputs": [],
   "source": [
    "df['y'] = 0\n",
    "df.loc[df['next']==\"del\",'y'] = 1"
   ]
  },
  {
   "cell_type": "code",
   "execution_count": 437,
   "id": "71b79f43",
   "metadata": {},
   "outputs": [],
   "source": [
    "from sklearn.metrics import roc_curve, auc\n",
    "from sklearn.metrics import roc_auc_score"
   ]
  },
  {
   "cell_type": "code",
   "execution_count": 530,
   "id": "ed88cf1e",
   "metadata": {},
   "outputs": [
    {
     "name": "stdout",
     "output_type": "stream",
     "text": [
      "0.5942505630266607\n"
     ]
    }
   ],
   "source": [
    "fpr, tpr, threshold = roc_curve(df['y'], df['intensity'])\n",
    "print(auc(fpr,tpr))"
   ]
  },
  {
   "cell_type": "code",
   "execution_count": 595,
   "id": "350dc463",
   "metadata": {},
   "outputs": [],
   "source": [
    "for index in df.index:\n",
    "    divs = torch.tensor([df.at[index,f\"div{i}\"] for i in range(20,301,20)],dtype=torch.float64)\n",
    "    df.loc[index, 'intensity'] = conditional_intensity_del(divs,torch.tensor(0.05506279,dtype=torch.float64), adivdiv, torch.tensor(0.04943048,dtype=torch.float64), bdivdiv, torch.tensor(1.09999919,dtype=torch.float64)).item()"
   ]
  },
  {
   "cell_type": "code",
   "execution_count": 596,
   "id": "47a6366c",
   "metadata": {},
   "outputs": [],
   "source": [
    "df['y'] = 0\n",
    "df.loc[df['next']==\"del\",'y'] = 1"
   ]
  },
  {
   "cell_type": "code",
   "execution_count": 597,
   "id": "ce4235ec",
   "metadata": {},
   "outputs": [
    {
     "name": "stdout",
     "output_type": "stream",
     "text": [
      "0.5644249245127643\n"
     ]
    }
   ],
   "source": [
    "fpr, tpr, threshold = roc_curve(df['y'], df['intensity'])\n",
    "print(auc(fpr,tpr))"
   ]
  },
  {
   "cell_type": "code",
   "execution_count": null,
   "id": "11213d11",
   "metadata": {},
   "outputs": [],
   "source": []
  }
 ],
 "metadata": {
  "kernelspec": {
   "display_name": "Python 3 (ipykernel)",
   "language": "python",
   "name": "python3"
  },
  "language_info": {
   "codemirror_mode": {
    "name": "ipython",
    "version": 3
   },
   "file_extension": ".py",
   "mimetype": "text/x-python",
   "name": "python",
   "nbconvert_exporter": "python",
   "pygments_lexer": "ipython3",
   "version": "3.9.10"
  }
 },
 "nbformat": 4,
 "nbformat_minor": 5
}
