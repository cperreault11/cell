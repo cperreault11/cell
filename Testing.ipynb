{
 "cells": [
  {
   "cell_type": "code",
   "execution_count": 43,
   "id": "2d25dc6d",
   "metadata": {},
   "outputs": [],
   "source": [
    "import numpy as np\n",
    "import pandas as pd"
   ]
  },
  {
   "cell_type": "code",
   "execution_count": 44,
   "id": "56c230d9",
   "metadata": {},
   "outputs": [],
   "source": [
    "df = pd.read_csv(\"div_0.csv\")"
   ]
  },
  {
   "cell_type": "code",
   "execution_count": 45,
   "id": "8f705560",
   "metadata": {},
   "outputs": [],
   "source": [
    "divs = len(df[(df['i'] > 0) &( df['next']==\"div\")])\n",
    "dels = len(df[(df['i'] > 0) &(df['next']==\"del\")])\n",
    "nbs = len(df[(df['i'] > 0) &(df['next']==\"none\")])\n",
    "total = divs + dels + nbs"
   ]
  },
  {
   "cell_type": "code",
   "execution_count": 46,
   "id": "1153af73",
   "metadata": {},
   "outputs": [
    {
     "name": "stdout",
     "output_type": "stream",
     "text": [
      "0.09579870729455217 0.0909510618651893 0.8132502308402585 4332\n"
     ]
    }
   ],
   "source": [
    "print (divs/total, dels/total, nbs/total, total)"
   ]
  },
  {
   "cell_type": "code",
   "execution_count": 47,
   "id": "b9e48e1c",
   "metadata": {},
   "outputs": [],
   "source": [
    "def get_ratio(df, distance, time, t):\n",
    "    \"\"\"\n",
    "    distance and time are cutoffs\n",
    "    t is div/del\n",
    "    \"\"\"\n",
    "    data = []\n",
    "    for i in range(20,301, 20):\n",
    "        events = df[(df['i']==i) & (df['next']==t)]\n",
    "        snapshot = df[(df['i']==i)].copy()\n",
    "        close = []\n",
    "        for j in range(len(events)):\n",
    "            snapshot['distance'] = np.sqrt(np.power(snapshot['x'] - events.iat[j,5],2) + np.power(snapshot['y'] - events.iat[j,6],2))\n",
    "            close.append(snapshot[(snapshot['distance']< distance) & (snapshot['distance'] >1e-6)])\n",
    "        close = pd.concat(close)['id'].unique()\n",
    "        data.append(df[(df['id'].isin(close)) & (df['i']== i + 20*time)].copy())\n",
    "    return pd.concat(data)"
   ]
  },
  {
   "cell_type": "code",
   "execution_count": 48,
   "id": "4eabaa7b",
   "metadata": {},
   "outputs": [],
   "source": [
    "\n",
    "def get_ratio_2(df, distance, time,t):\n",
    "    data = []\n",
    "    distances = []\n",
    "    for i in range(20, 301, 20):\n",
    "        events = df[(df['i']==i) & (df['next']==t)]\n",
    "        snapshot = df[(df['i']==i)].copy()\n",
    "        close = []\n",
    "        for j in range(len(events)):\n",
    "            snapshot['distance'] = np.sqrt(np.power(snapshot['x'] - events.iat[j,5],2) + np.power(snapshot['y'] - events.iat[j,6],2))\n",
    "            close.append(snapshot.sort_values('distance').head(7).tail(6))\n",
    "            distances.append(max(snapshot.sort_values('distance').head(7).tail(6)['distance']))\n",
    "        close = pd.concat(close)['id'].unique()\n",
    "        data.append(df[(df['id'].isin(close)) & (df['i']== i + 20*time)].copy())\n",
    "    return pd.concat(data), distances"
   ]
  },
  {
   "cell_type": "code",
   "execution_count": 49,
   "id": "5fd8e497",
   "metadata": {},
   "outputs": [],
   "source": [
    "data = []\n",
    "for i in range(10):\n",
    "    data.append(pd.read_csv(f\"div_{i}.csv\"))"
   ]
  },
  {
   "cell_type": "code",
   "execution_count": 50,
   "id": "357cf3e2",
   "metadata": {},
   "outputs": [
    {
     "name": "stdout",
     "output_type": "stream",
     "text": [
      "0\n",
      "3\n",
      "995\n",
      "7195\n",
      "12438\n",
      "16513\n",
      "19805\n",
      "21938\n",
      "23349\n",
      "24109\n",
      "24565\n",
      "24819\n",
      "24978\n",
      "25073\n"
     ]
    }
   ],
   "source": [
    "div_div = []\n",
    "for distance in np.linspace(0,.2,14):\n",
    "    dels_t = 0\n",
    "    divs_t = 0\n",
    "    nbs_t = 0\n",
    "    for df in data:\n",
    "        d = get_ratio(df, distance, 2, \"div\")\n",
    "        try:\n",
    "            dels = d.groupby('next').count().iat[0,1]\n",
    "        except:\n",
    "            dels = 0\n",
    "        try:\n",
    "            divs = d.groupby('next').count().iat[1,1]\n",
    "        except:\n",
    "            divs = 0\n",
    "        try:\n",
    "            nbs = d.groupby('next').count().iat[2,1]\n",
    "        except:\n",
    "            nbs = 0\n",
    "        dels_t += dels\n",
    "        divs_t += divs\n",
    "        nbs_t += nbs\n",
    "    t = dels_t + divs_t + nbs_t\n",
    "    print(t)\n",
    "    if t ==0:\n",
    "        t = 1\n",
    "    div_div.append((divs_t/t, dels_t/t, nbs_t/t))\n"
   ]
  },
  {
   "cell_type": "code",
   "execution_count": 51,
   "id": "2d917858",
   "metadata": {},
   "outputs": [],
   "source": [
    "data = []\n",
    "for i in range(10):\n",
    "    data.append(pd.read_csv(f\"del_{i}.csv\"))"
   ]
  },
  {
   "cell_type": "code",
   "execution_count": 52,
   "id": "75ffdea2",
   "metadata": {},
   "outputs": [],
   "source": [
    "del_del = []\n",
    "for distance in np.linspace(0,.2,14):\n",
    "    dels_t = 0\n",
    "    divs_t = 0\n",
    "    nbs_t = 0\n",
    "    for df in data:\n",
    "        d = get_ratio(df, distance, 2, \"del\")\n",
    "        try:\n",
    "            dels = d.groupby('next').count().iat[0,1]\n",
    "        except:\n",
    "            dels = 0\n",
    "        try:\n",
    "            divs = d.groupby('next').count().iat[1,1]\n",
    "        except:\n",
    "            divs = 0\n",
    "        try:\n",
    "            nbs = d.groupby('next').count().iat[2,1]\n",
    "        except:\n",
    "            nbs = 0\n",
    "        dels_t += dels\n",
    "        divs_t += divs\n",
    "        nbs_t += nbs\n",
    "    t = dels_t + divs_t + nbs_t\n",
    "    if t ==0:\n",
    "        t = 1\n",
    "    del_del.append((divs_t/t, dels_t/t, nbs_t/t))"
   ]
  },
  {
   "cell_type": "code",
   "execution_count": 53,
   "id": "53e974f9",
   "metadata": {},
   "outputs": [],
   "source": [
    "data = []\n",
    "for i in range(10):\n",
    "    data.append(pd.read_csv(f\"both_{i}.csv\"))\n"
   ]
  },
  {
   "cell_type": "code",
   "execution_count": 54,
   "id": "fac1d1d3",
   "metadata": {},
   "outputs": [],
   "source": [
    "both_div = []\n",
    "for distance in np.linspace(0,.2,14):\n",
    "    dels_t = 0\n",
    "    divs_t = 0\n",
    "    nbs_t = 0\n",
    "    for df in data:\n",
    "        d = get_ratio(df, distance, 2, \"div\")\n",
    "        try:\n",
    "            dels = d.groupby('next').count().iat[0,1]\n",
    "        except:\n",
    "            dels = 0\n",
    "        try:\n",
    "            divs = d.groupby('next').count().iat[1,1]\n",
    "        except:\n",
    "            divs = 0\n",
    "        try:\n",
    "            nbs = d.groupby('next').count().iat[2,1]\n",
    "        except:\n",
    "            nbs = 0\n",
    "        dels_t += dels\n",
    "        divs_t += divs\n",
    "        nbs_t += nbs\n",
    "    t = dels_t + divs_t + nbs_t\n",
    "    if t ==0:\n",
    "        t = 1\n",
    "    both_div.append((divs_t/t, dels_t/t, nbs_t/t))"
   ]
  },
  {
   "cell_type": "code",
   "execution_count": 55,
   "id": "72a12ca6",
   "metadata": {},
   "outputs": [],
   "source": [
    "both_del = []\n",
    "for distance in np.linspace(0,.2,14):\n",
    "    dels_t = 0\n",
    "    divs_t = 0\n",
    "    nbs_t = 0\n",
    "    for df in data:\n",
    "        d = get_ratio(df, distance, 2, \"del\")\n",
    "        try:\n",
    "            dels = d.groupby('next').count().iat[0,1]\n",
    "        except:\n",
    "            dels = 0\n",
    "        try:\n",
    "            divs = d.groupby('next').count().iat[1,1]\n",
    "        except:\n",
    "            divs = 0\n",
    "        try:\n",
    "            nbs = d.groupby('next').count().iat[2,1]\n",
    "        except:\n",
    "            nbs = 0\n",
    "        dels_t += dels\n",
    "        divs_t += divs\n",
    "        nbs_t += nbs\n",
    "    t = dels_t + divs_t + nbs_t\n",
    "    if t ==0:\n",
    "        t = 1\n",
    "    both_del.append((divs_t/t, dels_t/t, nbs_t/t))"
   ]
  },
  {
   "cell_type": "code",
   "execution_count": 56,
   "id": "dcbf40a5",
   "metadata": {},
   "outputs": [],
   "source": [
    "import matplotlib.pyplot as plt"
   ]
  },
  {
   "cell_type": "code",
   "execution_count": 57,
   "id": "492e0a1b",
   "metadata": {},
   "outputs": [
    {
     "data": {
      "text/plain": [
       "array([0.])"
      ]
     },
     "execution_count": 57,
     "metadata": {},
     "output_type": "execute_result"
    }
   ],
   "source": [
    "np.arange(0,.2,14)"
   ]
  },
  {
   "cell_type": "code",
   "execution_count": 58,
   "id": "2ad1ac3b",
   "metadata": {},
   "outputs": [
    {
     "data": {
      "text/plain": [
       "[(0.0, 0.0, 0.0),\n",
       " (0.3333333333333333, 0.6666666666666666, 0.0),\n",
       " (0.12261306532663317, 0.16381909547738693, 0.7135678391959799),\n",
       " (0.12244614315496873, 0.17303683113273105, 0.7045170257123002),\n",
       " (0.12349252291365172, 0.17462614568258564, 0.7018813314037626),\n",
       " (0.12263065463574153, 0.1658087567371162, 0.7115605886271422),\n",
       " (0.12451401161322899, 0.15485988386771019, 0.7206261045190608),\n",
       " (0.12507977026164646, 0.14641261737624214, 0.7285076123621114),\n",
       " (0.12574414321812497, 0.14086256370722514, 0.7333932930746498),\n",
       " (0.12576216350740388, 0.13803973619810028, 0.7361981002944958),\n",
       " (0.12574801546916345, 0.1366578465296153, 0.7375941380012212),\n",
       " (0.125992183407873, 0.1359039445586043, 0.7381038720335227),\n",
       " (0.12579069581231483, 0.13543918648410602, 0.7387701177035791),\n",
       " (0.12579268535875243, 0.13504566665337214, 0.7391616479878754)]"
      ]
     },
     "execution_count": 58,
     "metadata": {},
     "output_type": "execute_result"
    }
   ],
   "source": [
    "div_div"
   ]
  },
  {
   "cell_type": "code",
   "execution_count": 59,
   "id": "cf8ea415",
   "metadata": {},
   "outputs": [
    {
     "data": {
      "image/png": "[encoded data removed]",
      "text/plain": [
       "<Figure size 720x720 with 1 Axes>"
      ]
     },
     "metadata": {
      "needs_background": "light"
     },
     "output_type": "display_data"
    }
   ],
   "source": [
    "fig, ax = plt.subplots(figsize=(10,10))\n",
    "divs, = ax.plot(np.linspace(0,.2,14), [x[0] for x in div_div], color = 'r')\n",
    "dels, = ax.plot(np.linspace(0,.2,14), [x[1] for x in div_div], color = 'b')\n",
    "ax.set_xlabel(\"Distance from dividing cell\")\n",
    "ax.set_ylabel(\"Proportion of cells with fate after 24-48 hours\") # check these numbers\n",
    "ax.set_title(\"Cell fates in simulation with random divisions\")\n",
    "ax.legend([dels, divs], [\"Delaminations\", \"Divisions\"])\n",
    "plt.savefig(\"divdiv.jpg\")"
   ]
  },
  {
   "cell_type": "code",
   "execution_count": 60,
   "id": "8a663d0d",
   "metadata": {},
   "outputs": [
    {
     "data": {
      "image/png": "[encoded data removed]",
      "text/plain": [
       "<Figure size 720x720 with 1 Axes>"
      ]
     },
     "metadata": {
      "needs_background": "light"
     },
     "output_type": "display_data"
    }
   ],
   "source": [
    "fig, ax = plt.subplots(figsize=(10,10))\n",
    "divs, = ax.plot(np.linspace(0,.2,14), [x[0] for x in del_del], color = 'r')\n",
    "dels, = ax.plot(np.linspace(0,.2,14), [x[1] for x in del_del], color = 'b')\n",
    "ax.set_xlabel(\"Distance from delaminating cell\")\n",
    "ax.set_ylabel(\"Proportion of cells with fate after 24-48 hours\") # check these numbers\n",
    "ax.set_title(\"Cell fates in simulation with random delaminations\")\n",
    "ax.legend([dels, divs], [\"Delaminations\", \"Divisions\"])\n",
    "plt.savefig(\"deldel.jpg\")"
   ]
  },
  {
   "cell_type": "code",
   "execution_count": 61,
   "id": "70a76c69",
   "metadata": {},
   "outputs": [
    {
     "data": {
      "image/png": "[encoded data removed]",
      "text/plain": [
       "<Figure size 720x720 with 1 Axes>"
      ]
     },
     "metadata": {
      "needs_background": "light"
     },
     "output_type": "display_data"
    }
   ],
   "source": [
    "fig, ax = plt.subplots(figsize=(10,10))\n",
    "divs, = ax.plot(np.linspace(0,.2,14), [x[0] for x in both_del], color = 'r')\n",
    "dels, = ax.plot(np.linspace(0,.2,14), [x[1] for x in both_del], color = 'b')\n",
    "ax.set_xlabel(\"Distance from delaminating cell\")\n",
    "ax.set_ylabel(\"Proportion of cells with fate after 24-48 hours\") # check these numbers\n",
    "ax.set_title(\"Cell fates in simulation with random delaminations and divisions\")\n",
    "ax.legend([dels, divs], [\"Delaminations\", \"Divisions\"])\n",
    "plt.savefig(\"bothdel.jpg\")"
   ]
  },
  {
   "cell_type": "code",
   "execution_count": 62,
   "id": "d9143c97",
   "metadata": {},
   "outputs": [
    {
     "data": {
      "image/png": "[encoded data removed]",
      "text/plain": [
       "<Figure size 720x720 with 1 Axes>"
      ]
     },
     "metadata": {
      "needs_background": "light"
     },
     "output_type": "display_data"
    }
   ],
   "source": [
    "fig, ax = plt.subplots(figsize=(10,10))\n",
    "divs, = ax.plot(np.linspace(0,.2,14), [x[0] for x in both_div], color = 'r')\n",
    "dels, = ax.plot(np.linspace(0,.2,14), [x[1] for x in both_div], color = 'b')\n",
    "ax.set_xlabel(\"Distance from dividing cell\")\n",
    "ax.set_ylabel(\"Proportion of cells with fate after 24-48 hours\") # check these numbers\n",
    "ax.set_title(\"Cell fates in simulation with random delaminations and divisions\")\n",
    "ax.legend([dels, divs], [\"Delaminations\", \"Divisions\"])\n",
    "plt.savefig(\"bothdiv.jpg\")"
   ]
  },
  {
   "cell_type": "code",
   "execution_count": 185,
   "id": "9b2fdee6",
   "metadata": {},
   "outputs": [],
   "source": [
    "# first, need to assign a probability of div to every cell. baseline is avg rate\n",
    "data = []\n",
    "for i in range(10):\n",
    "    data.append(pd.read_csv(f\"del_{i}.csv\"))\n",
    "combined = pd.concat(data)\n",
    "divs = combined.groupby('next').count().iat[1,1]\n",
    "total = len(combined)\n",
    "baseline = divs/total\n",
    "for df in data:\n",
    "    df['prob_div'] = baseline\n",
    "    df['true'] = 0\n",
    "    df.loc[df['next']==\"div\",'true'] = 1\n",
    "    df['dist'] = 1000 # dummy number\n",
    "\n",
    "for e,df in enumerate(data):\n",
    "    for i in range(20,301,20):\n",
    "        events = df[(df['i']==i) & (df['next']==\"del\")]\n",
    "        snapshot = df[(df['i']==i)].copy()\n",
    "        for j in range(len(events)):\n",
    "            snapshot['distance'] = np.sqrt(np.power(snapshot['x'] - events.iat[j,5],2) + np.power(snapshot['y'] - events.iat[j,6],2))#.reset_index()\n",
    "            snapshot.loc[snapshot['distance']==0, 'distance'] = 1000\n",
    "            df = df.merge(snapshot[['i','id','distance']], on=['i','id'], how='left')\n",
    "            df['distance'].fillna(1000)\n",
    "            df['dist'] = pd.concat([df['dist'], df['distance']], axis=1).min(axis=1)\n",
    "            del df['distance']\n",
    "    data[e] = df.copy()"
   ]
  },
  {
   "cell_type": "code",
   "execution_count": 188,
   "id": "fe122982",
   "metadata": {},
   "outputs": [],
   "source": [
    "deldel_auc = []\n",
    "for df in data:\n",
    "    for i, d in enumerate(np.linspace(0,.2,14)):\n",
    "        df.loc[df['dist'] < d, 'prob_div'] = del_del[i][0]\n",
    "    fpr, tpr, threshold = roc_curve(df['true'], df['prob_div'])\n",
    "    deldel_auc.append(auc(fpr,tpr))\n",
    "deldel_auc = np.array(deldel_auc)"
   ]
  },
  {
   "cell_type": "code",
   "execution_count": 193,
   "id": "7eebd660",
   "metadata": {},
   "outputs": [
    {
     "data": {
      "text/plain": [
       "0.5372321661299364"
      ]
     },
     "execution_count": 193,
     "metadata": {},
     "output_type": "execute_result"
    }
   ],
   "source": [
    "deldel_auc.mean()"
   ]
  },
  {
   "cell_type": "code",
   "execution_count": 199,
   "id": "391b15fa",
   "metadata": {},
   "outputs": [],
   "source": [
    "# first, need to assign a probability of div to every cell. baseline is avg rate\n",
    "data = []\n",
    "for i in range(10):\n",
    "    data.append(pd.read_csv(f\"div_{i}.csv\"))\n",
    "combined = pd.concat(data)\n",
    "divs = combined.groupby('next').count().iat[1,1]\n",
    "total = len(combined)\n",
    "baseline = divs/total\n",
    "for df in data:\n",
    "    df['prob_div'] = baseline\n",
    "    df['true'] = 0\n",
    "    df.loc[df['next']==\"del\",'true'] = 1\n",
    "    df['dist'] = 1000 # dummy number\n",
    "\n",
    "for e,df in enumerate(data):\n",
    "    for i in range(20,301,20):\n",
    "        events = df[(df['i']==i) & (df['next']==\"div\")]\n",
    "        snapshot = df[(df['i']==i)].copy()\n",
    "        for j in range(len(events)):\n",
    "            snapshot['distance'] = np.sqrt(np.power(snapshot['x'] - events.iat[j,5],2) + np.power(snapshot['y'] - events.iat[j,6],2))#.reset_index()\n",
    "            snapshot.loc[snapshot['distance']==0, 'distance'] = 1000\n",
    "            df = df.merge(snapshot[['i','id','distance']], on=['i','id'], how='left')\n",
    "            df['distance'].fillna(1000)\n",
    "            df['dist'] = pd.concat([df['dist'], df['distance']], axis=1).min(axis=1)\n",
    "            del df['distance']\n",
    "    data[e] = df.copy()"
   ]
  },
  {
   "cell_type": "code",
   "execution_count": 200,
   "id": "51352e8f",
   "metadata": {},
   "outputs": [],
   "source": [
    "divdiv_auc = []\n",
    "for df in data:\n",
    "    for i, d in enumerate(np.linspace(0,.2,14)):\n",
    "        df.loc[df['dist'] < d, 'prob_div'] = div_div[i][0]\n",
    "    fpr, tpr, threshold = roc_curve(df['true'], df['prob_div'])\n",
    "    divdiv_auc.append(auc(fpr,tpr))\n",
    "divdiv_auc = np.array(divdiv_auc)"
   ]
  },
  {
   "cell_type": "code",
   "execution_count": 201,
   "id": "9235787e",
   "metadata": {},
   "outputs": [
    {
     "data": {
      "text/plain": [
       "0.582872247378175"
      ]
     },
     "execution_count": 201,
     "metadata": {},
     "output_type": "execute_result"
    }
   ],
   "source": [
    "divdiv_auc.mean()"
   ]
  },
  {
   "cell_type": "code",
   "execution_count": 202,
   "id": "c6a93400",
   "metadata": {},
   "outputs": [],
   "source": [
    "# first, need to assign a probability of div to every cell. baseline is avg rate\n",
    "data = []\n",
    "for i in range(10):\n",
    "    data.append(pd.read_csv(f\"both_{i}.csv\"))\n",
    "combined = pd.concat(data)\n",
    "divs = combined.groupby('next').count().iat[1,1]\n",
    "total = len(combined)\n",
    "baseline = divs/total\n",
    "for df in data:\n",
    "    df['prob_div'] = baseline\n",
    "    df['true'] = 0\n",
    "    df.loc[df['next']==\"del\",'true'] = 1\n",
    "    df['dist'] = 1000 # dummy number\n",
    "\n",
    "for e,df in enumerate(data):\n",
    "    for i in range(20,301,20):\n",
    "        events = df[(df['i']==i) & (df['next']==\"div\")]\n",
    "        snapshot = df[(df['i']==i)].copy()\n",
    "        for j in range(len(events)):\n",
    "            snapshot['distance'] = np.sqrt(np.power(snapshot['x'] - events.iat[j,5],2) + np.power(snapshot['y'] - events.iat[j,6],2))#.reset_index()\n",
    "            snapshot.loc[snapshot['distance']==0, 'distance'] = 1000\n",
    "            df = df.merge(snapshot[['i','id','distance']], on=['i','id'], how='left')\n",
    "            df['distance'].fillna(1000)\n",
    "            df['dist'] = pd.concat([df['dist'], df['distance']], axis=1).min(axis=1)\n",
    "            del df['distance']\n",
    "    data[e] = df.copy()"
   ]
  },
  {
   "cell_type": "code",
   "execution_count": 203,
   "id": "ee01e2f6",
   "metadata": {},
   "outputs": [],
   "source": [
    "bothdiv_auc = []\n",
    "for df in data:\n",
    "    for i, d in enumerate(np.linspace(0,.2,14)):\n",
    "        df.loc[df['dist'] < d, 'prob_div'] = both_div[i][0]\n",
    "    fpr, tpr, threshold = roc_curve(df['true'], df['prob_div'])\n",
    "    bothdiv_auc.append(auc(fpr,tpr))\n",
    "bothdiv_auc = np.array(bothdiv_auc)"
   ]
  },
  {
   "cell_type": "code",
   "execution_count": 206,
   "id": "043c9e5b",
   "metadata": {},
   "outputs": [
    {
     "data": {
      "text/plain": [
       "0.5729257742951326"
      ]
     },
     "execution_count": 206,
     "metadata": {},
     "output_type": "execute_result"
    }
   ],
   "source": [
    "bothdiv_auc.mean()"
   ]
  },
  {
   "cell_type": "code",
   "execution_count": 204,
   "id": "1b4311b9",
   "metadata": {},
   "outputs": [],
   "source": [
    "# first, need to assign a probability of div to every cell. baseline is avg rate\n",
    "data = []\n",
    "for i in range(10):\n",
    "    data.append(pd.read_csv(f\"both_{i}.csv\"))\n",
    "combined = pd.concat(data)\n",
    "divs = combined.groupby('next').count().iat[1,1]\n",
    "total = len(combined)\n",
    "baseline = divs/total\n",
    "for df in data:\n",
    "    df['prob_div'] = baseline\n",
    "    df['true'] = 0\n",
    "    df.loc[df['next']==\"div\",'true'] = 1\n",
    "    df['dist'] = 1000 # dummy number\n",
    "\n",
    "for e,df in enumerate(data):\n",
    "    for i in range(20,301,20):\n",
    "        events = df[(df['i']==i) & (df['next']==\"del\")]\n",
    "        snapshot = df[(df['i']==i)].copy()\n",
    "        for j in range(len(events)):\n",
    "            snapshot['distance'] = np.sqrt(np.power(snapshot['x'] - events.iat[j,5],2) + np.power(snapshot['y'] - events.iat[j,6],2))#.reset_index()\n",
    "            snapshot.loc[snapshot['distance']==0, 'distance'] = 1000\n",
    "            df = df.merge(snapshot[['i','id','distance']], on=['i','id'], how='left')\n",
    "            df['distance'].fillna(1000)\n",
    "            df['dist'] = pd.concat([df['dist'], df['distance']], axis=1).min(axis=1)\n",
    "            del df['distance']\n",
    "    data[e] = df.copy()"
   ]
  },
  {
   "cell_type": "code",
   "execution_count": 205,
   "id": "4d9f726b",
   "metadata": {},
   "outputs": [],
   "source": [
    "bothdel_auc = []\n",
    "for df in data:\n",
    "    for i, d in enumerate(np.linspace(0,.2,14)):\n",
    "        df.loc[df['dist'] < d, 'prob_div'] = both_del[i][0]\n",
    "    fpr, tpr, threshold = roc_curve(df['true'], df['prob_div'])\n",
    "    bothdel_auc.append(auc(fpr,tpr))\n",
    "bothdel_auc = np.array(bothdel_auc)"
   ]
  },
  {
   "cell_type": "code",
   "execution_count": 207,
   "id": "9bd9d8ac",
   "metadata": {},
   "outputs": [
    {
     "data": {
      "text/plain": [
       "0.5444930150803751"
      ]
     },
     "execution_count": 207,
     "metadata": {},
     "output_type": "execute_result"
    }
   ],
   "source": [
    "bothdel_auc.mean()"
   ]
  },
  {
   "cell_type": "markdown",
   "id": "685a9ba5",
   "metadata": {},
   "source": [
    "TODO: double check these numbers, but based on these: the simple model is comparable to the GNN in the simulation with both inciting actions, and significantly worse with only a single one. however, in all cases it does learn some of the patterns."
   ]
  },
  {
   "cell_type": "code",
   "execution_count": 183,
   "id": "68db32d7",
   "metadata": {},
   "outputs": [
    {
     "data": {
      "text/html": [
       "<div>\n",
       "<style scoped>\n",
       "    .dataframe tbody tr th:only-of-type {\n",
       "        vertical-align: middle;\n",
       "    }\n",
       "\n",
       "    .dataframe tbody tr th {\n",
       "        vertical-align: top;\n",
       "    }\n",
       "\n",
       "    .dataframe thead th {\n",
       "        text-align: right;\n",
       "    }\n",
       "</style>\n",
       "<table border=\"1\" class=\"dataframe\">\n",
       "  <thead>\n",
       "    <tr style=\"text-align: right;\">\n",
       "      <th></th>\n",
       "      <th>Unnamed: 0</th>\n",
       "      <th>parent</th>\n",
       "      <th>next</th>\n",
       "      <th>id</th>\n",
       "      <th>i</th>\n",
       "      <th>x</th>\n",
       "      <th>y</th>\n",
       "      <th>prob_div</th>\n",
       "      <th>true</th>\n",
       "      <th>dist</th>\n",
       "    </tr>\n",
       "  </thead>\n",
       "  <tbody>\n",
       "  </tbody>\n",
       "</table>\n",
       "</div>"
      ],
      "text/plain": [
       "Empty DataFrame\n",
       "Columns: [Unnamed: 0, parent, next, id, i, x, y, prob_div, true, dist]\n",
       "Index: []"
      ]
     },
     "execution_count": 183,
     "metadata": {},
     "output_type": "execute_result"
    }
   ],
   "source": [
    "df[df['dist']<1000]"
   ]
  },
  {
   "cell_type": "code",
   "execution_count": 165,
   "id": "94f38a65",
   "metadata": {},
   "outputs": [],
   "source": [
    "# next, assign probabilities for the everything that changes. Will do that later"
   ]
  },
  {
   "cell_type": "code",
   "execution_count": 166,
   "id": "62117f71",
   "metadata": {},
   "outputs": [],
   "source": [
    "# for now, work with a single dataframe\n",
    "df = data[0]\n",
    "class_count = df['next'].value_counts()\n",
    "divs = class_count['div']\n",
    "nodivs = len(df) - divs\n",
    "tpr, fpr = [],[]\n",
    "# for threshold in np.linspace(0,1,20):\n",
    "#     df['pred'] = \"div\"\n",
    "#     df.loc[df['prob_div'] < threshold, 'pred'] = \"nodiv\"\n",
    "#     df['tp'] = df['pred'] == df['next']\n",
    "#     df['fp'] = (df['pred'] == \"div\")& (df['next'] != \"div\")\n",
    "#     tp = df['tp'].sum()\n",
    "#     fp = df['fp'].sum()\n",
    "#     tpr.append(tp/len(df))\n",
    "#     fpr.append(tp/len(df))"
   ]
  },
  {
   "cell_type": "code",
   "execution_count": 79,
   "id": "80644df8",
   "metadata": {},
   "outputs": [],
   "source": [
    "from sklearn.metrics import roc_curve, auc\n",
    "from sklearn.metrics import roc_auc_score"
   ]
  },
  {
   "cell_type": "code",
   "execution_count": 89,
   "id": "c264b23b",
   "metadata": {},
   "outputs": [],
   "source": [
    "df.loc[df['next']!='nodiv','next'] = 0\n",
    "df.loc[df['next']=='div','next'] = 1"
   ]
  },
  {
   "cell_type": "code",
   "execution_count": 174,
   "id": "bffc62a6",
   "metadata": {},
   "outputs": [],
   "source": [
    "df['true'] = 0\n",
    "df.loc[df['next']==\"div\",'true'] = 1"
   ]
  },
  {
   "cell_type": "code",
   "execution_count": 100,
   "id": "0df33232",
   "metadata": {},
   "outputs": [
    {
     "data": {
      "text/plain": [
       "[(0.0, 0.0, 0.0),\n",
       " (0.1878048780487805, 0.1073170731707317, 0.7048780487804878),\n",
       " (0.23110970597533986, 0.11097059753398672, 0.6579196964906734),\n",
       " (0.21238234124353705, 0.11812276282646161, 0.6694948959300013),\n",
       " (0.2017143899325187, 0.11718037570672989, 0.6811052343607514),\n",
       " (0.1858902575587906, 0.12003079507278835, 0.694078947368421),\n",
       " (0.1643542606081628, 0.12371372412995722, 0.71193201526188),\n",
       " (0.15128805620608898, 0.12719229768410095, 0.72151964610981),\n",
       " (0.14228505259094856, 0.12838946251085592, 0.7293254848981955),\n",
       " (0.13730569948186527, 0.12971872686898595, 0.7329755736491488),\n",
       " (0.13442682210473997, 0.12995345894898558, 0.7356197189462744),\n",
       " (0.13283542277940785, 0.13079043300435672, 0.7363741442162355),\n",
       " (0.13172729674975778, 0.13115476085616137, 0.7371179423940809),\n",
       " (0.13107072476461573, 0.13164002627545435, 0.73728924895993)]"
      ]
     },
     "execution_count": 100,
     "metadata": {},
     "output_type": "execute_result"
    }
   ],
   "source": [
    "del_del"
   ]
  },
  {
   "cell_type": "code",
   "execution_count": 101,
   "id": "fdc4c658",
   "metadata": {},
   "outputs": [
    {
     "data": {
      "text/plain": [
       "array([0.        , 0.01538462, 0.03076923, 0.04615385, 0.06153846,\n",
       "       0.07692308, 0.09230769, 0.10769231, 0.12307692, 0.13846154,\n",
       "       0.15384615, 0.16923077, 0.18461538, 0.2       ])"
      ]
     },
     "execution_count": 101,
     "metadata": {},
     "output_type": "execute_result"
    }
   ],
   "source": [
    "np.linspace(0,.2,14)"
   ]
  },
  {
   "cell_type": "code",
   "execution_count": 105,
   "id": "3790b0ee",
   "metadata": {},
   "outputs": [
    {
     "data": {
      "text/html": [
       "<div>\n",
       "<style scoped>\n",
       "    .dataframe tbody tr th:only-of-type {\n",
       "        vertical-align: middle;\n",
       "    }\n",
       "\n",
       "    .dataframe tbody tr th {\n",
       "        vertical-align: top;\n",
       "    }\n",
       "\n",
       "    .dataframe thead th {\n",
       "        text-align: right;\n",
       "    }\n",
       "</style>\n",
       "<table border=\"1\" class=\"dataframe\">\n",
       "  <thead>\n",
       "    <tr style=\"text-align: right;\">\n",
       "      <th></th>\n",
       "      <th>Unnamed: 0</th>\n",
       "      <th>parent</th>\n",
       "      <th>next</th>\n",
       "      <th>id</th>\n",
       "      <th>i</th>\n",
       "      <th>x</th>\n",
       "      <th>y</th>\n",
       "      <th>prob_div</th>\n",
       "      <th>true</th>\n",
       "      <th>dist</th>\n",
       "    </tr>\n",
       "  </thead>\n",
       "  <tbody>\n",
       "    <tr>\n",
       "      <th>0</th>\n",
       "      <td>0</td>\n",
       "      <td>none</td>\n",
       "      <td>none</td>\n",
       "      <td>cbd1bc8c-a440-11ec-a386-0242ac110002</td>\n",
       "      <td>0</td>\n",
       "      <td>0.314488</td>\n",
       "      <td>0.356626</td>\n",
       "      <td>0.093035</td>\n",
       "      <td>0</td>\n",
       "      <td>1000</td>\n",
       "    </tr>\n",
       "    <tr>\n",
       "      <th>1</th>\n",
       "      <td>1</td>\n",
       "      <td>none</td>\n",
       "      <td>none</td>\n",
       "      <td>cbd1ca2e-a440-11ec-a386-0242ac110002</td>\n",
       "      <td>0</td>\n",
       "      <td>0.484421</td>\n",
       "      <td>0.759583</td>\n",
       "      <td>0.093035</td>\n",
       "      <td>0</td>\n",
       "      <td>1000</td>\n",
       "    </tr>\n",
       "    <tr>\n",
       "      <th>2</th>\n",
       "      <td>2</td>\n",
       "      <td>none</td>\n",
       "      <td>none</td>\n",
       "      <td>cbd20d36-a440-11ec-a386-0242ac110002</td>\n",
       "      <td>0</td>\n",
       "      <td>0.215891</td>\n",
       "      <td>0.205842</td>\n",
       "      <td>0.093035</td>\n",
       "      <td>0</td>\n",
       "      <td>1000</td>\n",
       "    </tr>\n",
       "    <tr>\n",
       "      <th>3</th>\n",
       "      <td>3</td>\n",
       "      <td>none</td>\n",
       "      <td>none</td>\n",
       "      <td>cbd21c5e-a440-11ec-a386-0242ac110002</td>\n",
       "      <td>0</td>\n",
       "      <td>0.629827</td>\n",
       "      <td>0.426554</td>\n",
       "      <td>0.093035</td>\n",
       "      <td>0</td>\n",
       "      <td>1000</td>\n",
       "    </tr>\n",
       "    <tr>\n",
       "      <th>4</th>\n",
       "      <td>4</td>\n",
       "      <td>none</td>\n",
       "      <td>none</td>\n",
       "      <td>cbd2666e-a440-11ec-a386-0242ac110002</td>\n",
       "      <td>0</td>\n",
       "      <td>0.415513</td>\n",
       "      <td>0.582253</td>\n",
       "      <td>0.093035</td>\n",
       "      <td>0</td>\n",
       "      <td>1000</td>\n",
       "    </tr>\n",
       "    <tr>\n",
       "      <th>...</th>\n",
       "      <td>...</td>\n",
       "      <td>...</td>\n",
       "      <td>...</td>\n",
       "      <td>...</td>\n",
       "      <td>...</td>\n",
       "      <td>...</td>\n",
       "      <td>...</td>\n",
       "      <td>...</td>\n",
       "      <td>...</td>\n",
       "      <td>...</td>\n",
       "    </tr>\n",
       "    <tr>\n",
       "      <th>4060</th>\n",
       "      <td>264</td>\n",
       "      <td>none</td>\n",
       "      <td>none</td>\n",
       "      <td>ebba79d0-a440-11ec-a386-0242ac110002</td>\n",
       "      <td>299</td>\n",
       "      <td>0.823300</td>\n",
       "      <td>0.175563</td>\n",
       "      <td>0.093035</td>\n",
       "      <td>0</td>\n",
       "      <td>1000</td>\n",
       "    </tr>\n",
       "    <tr>\n",
       "      <th>4061</th>\n",
       "      <td>265</td>\n",
       "      <td>none</td>\n",
       "      <td>none</td>\n",
       "      <td>ebc3727e-a440-11ec-a386-0242ac110002</td>\n",
       "      <td>300</td>\n",
       "      <td>0.682235</td>\n",
       "      <td>0.723395</td>\n",
       "      <td>0.093035</td>\n",
       "      <td>0</td>\n",
       "      <td>1000</td>\n",
       "    </tr>\n",
       "    <tr>\n",
       "      <th>4062</th>\n",
       "      <td>266</td>\n",
       "      <td>none</td>\n",
       "      <td>none</td>\n",
       "      <td>ebc38d2c-a440-11ec-a386-0242ac110002</td>\n",
       "      <td>300</td>\n",
       "      <td>0.199808</td>\n",
       "      <td>0.759743</td>\n",
       "      <td>0.093035</td>\n",
       "      <td>0</td>\n",
       "      <td>1000</td>\n",
       "    </tr>\n",
       "    <tr>\n",
       "      <th>4063</th>\n",
       "      <td>267</td>\n",
       "      <td>none</td>\n",
       "      <td>none</td>\n",
       "      <td>ebc399a2-a440-11ec-a386-0242ac110002</td>\n",
       "      <td>300</td>\n",
       "      <td>0.491955</td>\n",
       "      <td>0.529859</td>\n",
       "      <td>0.093035</td>\n",
       "      <td>0</td>\n",
       "      <td>1000</td>\n",
       "    </tr>\n",
       "    <tr>\n",
       "      <th>4064</th>\n",
       "      <td>268</td>\n",
       "      <td>none</td>\n",
       "      <td>none</td>\n",
       "      <td>ebd562a4-a440-11ec-a386-0242ac110002</td>\n",
       "      <td>300</td>\n",
       "      <td>0.774510</td>\n",
       "      <td>0.471781</td>\n",
       "      <td>0.093035</td>\n",
       "      <td>0</td>\n",
       "      <td>1000</td>\n",
       "    </tr>\n",
       "  </tbody>\n",
       "</table>\n",
       "<p>4065 rows × 10 columns</p>\n",
       "</div>"
      ],
      "text/plain": [
       "      Unnamed: 0 parent  next                                    id    i  \\\n",
       "0              0   none  none  cbd1bc8c-a440-11ec-a386-0242ac110002    0   \n",
       "1              1   none  none  cbd1ca2e-a440-11ec-a386-0242ac110002    0   \n",
       "2              2   none  none  cbd20d36-a440-11ec-a386-0242ac110002    0   \n",
       "3              3   none  none  cbd21c5e-a440-11ec-a386-0242ac110002    0   \n",
       "4              4   none  none  cbd2666e-a440-11ec-a386-0242ac110002    0   \n",
       "...          ...    ...   ...                                   ...  ...   \n",
       "4060         264   none  none  ebba79d0-a440-11ec-a386-0242ac110002  299   \n",
       "4061         265   none  none  ebc3727e-a440-11ec-a386-0242ac110002  300   \n",
       "4062         266   none  none  ebc38d2c-a440-11ec-a386-0242ac110002  300   \n",
       "4063         267   none  none  ebc399a2-a440-11ec-a386-0242ac110002  300   \n",
       "4064         268   none  none  ebd562a4-a440-11ec-a386-0242ac110002  300   \n",
       "\n",
       "             x         y  prob_div  true  dist  \n",
       "0     0.314488  0.356626  0.093035     0  1000  \n",
       "1     0.484421  0.759583  0.093035     0  1000  \n",
       "2     0.215891  0.205842  0.093035     0  1000  \n",
       "3     0.629827  0.426554  0.093035     0  1000  \n",
       "4     0.415513  0.582253  0.093035     0  1000  \n",
       "...        ...       ...       ...   ...   ...  \n",
       "4060  0.823300  0.175563  0.093035     0  1000  \n",
       "4061  0.682235  0.723395  0.093035     0  1000  \n",
       "4062  0.199808  0.759743  0.093035     0  1000  \n",
       "4063  0.491955  0.529859  0.093035     0  1000  \n",
       "4064  0.774510  0.471781  0.093035     0  1000  \n",
       "\n",
       "[4065 rows x 10 columns]"
      ]
     },
     "execution_count": 105,
     "metadata": {},
     "output_type": "execute_result"
    }
   ],
   "source": [
    "df"
   ]
  },
  {
   "cell_type": "code",
   "execution_count": 167,
   "id": "4f35123b",
   "metadata": {},
   "outputs": [],
   "source": [
    "# now, find the min distance from 40 timesteps ago for each point.\n",
    "df['dist'] = 1000 # dummy number\n",
    "for i in range(20,301,20):\n",
    "    events = df[(df['i']==i) & (df['next']==\"del\")]\n",
    "    snapshot = df[(df['i']==i)].copy()\n",
    "    for j in range(len(events)):\n",
    "        snapshot['distance'] = np.sqrt(np.power(snapshot['x'] - events.iat[j,5],2) + np.power(snapshot['y'] - events.iat[j,6],2))#.reset_index()\n",
    "        snapshot.loc[snapshot['distance']==0, 'distance'] = 1000\n",
    "        df = df.merge(snapshot[['i','id','distance']], on=['i','id'], how='left')\n",
    "        df['distance'].fillna(1000)\n",
    "        df['dist'] = pd.concat([df['dist'], df['distance']], axis=1).min(axis=1)\n",
    "        del df['distance']"
   ]
  },
  {
   "cell_type": "code",
   "execution_count": 169,
   "id": "893877d9",
   "metadata": {},
   "outputs": [
    {
     "data": {
      "text/plain": [
       "[(0.0, 0.0, 0.0),\n",
       " (0.1878048780487805, 0.1073170731707317, 0.7048780487804878),\n",
       " (0.23110970597533986, 0.11097059753398672, 0.6579196964906734),\n",
       " (0.21238234124353705, 0.11812276282646161, 0.6694948959300013),\n",
       " (0.2017143899325187, 0.11718037570672989, 0.6811052343607514),\n",
       " (0.1858902575587906, 0.12003079507278835, 0.694078947368421),\n",
       " (0.1643542606081628, 0.12371372412995722, 0.71193201526188),\n",
       " (0.15128805620608898, 0.12719229768410095, 0.72151964610981),\n",
       " (0.14228505259094856, 0.12838946251085592, 0.7293254848981955),\n",
       " (0.13730569948186527, 0.12971872686898595, 0.7329755736491488),\n",
       " (0.13442682210473997, 0.12995345894898558, 0.7356197189462744),\n",
       " (0.13283542277940785, 0.13079043300435672, 0.7363741442162355),\n",
       " (0.13172729674975778, 0.13115476085616137, 0.7371179423940809),\n",
       " (0.13107072476461573, 0.13164002627545435, 0.73728924895993)]"
      ]
     },
     "execution_count": 169,
     "metadata": {},
     "output_type": "execute_result"
    }
   ],
   "source": [
    "del_del"
   ]
  },
  {
   "cell_type": "code",
   "execution_count": 170,
   "id": "5ac8c2d8",
   "metadata": {},
   "outputs": [
    {
     "data": {
      "text/plain": [
       "array([0.        , 0.01538462, 0.03076923, 0.04615385, 0.06153846,\n",
       "       0.07692308, 0.09230769, 0.10769231, 0.12307692, 0.13846154,\n",
       "       0.15384615, 0.16923077, 0.18461538, 0.2       ])"
      ]
     },
     "execution_count": 170,
     "metadata": {},
     "output_type": "execute_result"
    }
   ],
   "source": [
    "np.linspace(0,.2,14)"
   ]
  },
  {
   "cell_type": "code",
   "execution_count": 171,
   "id": "fe3cab21",
   "metadata": {},
   "outputs": [],
   "source": [
    "for i, d in enumerate(np.linspace(0,.2,14)):\n",
    "    df.loc[df['dist'] < d, 'prob_div'] = del_del[i][0]"
   ]
  },
  {
   "cell_type": "code",
   "execution_count": 173,
   "id": "6a00e0fa",
   "metadata": {},
   "outputs": [
    {
     "data": {
      "text/html": [
       "<div>\n",
       "<style scoped>\n",
       "    .dataframe tbody tr th:only-of-type {\n",
       "        vertical-align: middle;\n",
       "    }\n",
       "\n",
       "    .dataframe tbody tr th {\n",
       "        vertical-align: top;\n",
       "    }\n",
       "\n",
       "    .dataframe thead th {\n",
       "        text-align: right;\n",
       "    }\n",
       "</style>\n",
       "<table border=\"1\" class=\"dataframe\">\n",
       "  <thead>\n",
       "    <tr style=\"text-align: right;\">\n",
       "      <th></th>\n",
       "      <th>Unnamed: 0</th>\n",
       "      <th>parent</th>\n",
       "      <th>next</th>\n",
       "      <th>id</th>\n",
       "      <th>i</th>\n",
       "      <th>x</th>\n",
       "      <th>y</th>\n",
       "      <th>prob_div</th>\n",
       "      <th>dist</th>\n",
       "    </tr>\n",
       "  </thead>\n",
       "  <tbody>\n",
       "    <tr>\n",
       "      <th>0</th>\n",
       "      <td>0</td>\n",
       "      <td>none</td>\n",
       "      <td>none</td>\n",
       "      <td>cd2b93c0-a3f8-11ec-a386-0242ac110002</td>\n",
       "      <td>0</td>\n",
       "      <td>0.562501</td>\n",
       "      <td>0.686052</td>\n",
       "      <td>0.093035</td>\n",
       "      <td>1000.000000</td>\n",
       "    </tr>\n",
       "    <tr>\n",
       "      <th>1</th>\n",
       "      <td>1</td>\n",
       "      <td>none</td>\n",
       "      <td>none</td>\n",
       "      <td>cd2bf2ca-a3f8-11ec-a386-0242ac110002</td>\n",
       "      <td>0</td>\n",
       "      <td>0.387634</td>\n",
       "      <td>0.717464</td>\n",
       "      <td>0.093035</td>\n",
       "      <td>1000.000000</td>\n",
       "    </tr>\n",
       "    <tr>\n",
       "      <th>2</th>\n",
       "      <td>2</td>\n",
       "      <td>none</td>\n",
       "      <td>none</td>\n",
       "      <td>cd2c61a6-a3f8-11ec-a386-0242ac110002</td>\n",
       "      <td>0</td>\n",
       "      <td>0.237356</td>\n",
       "      <td>0.179582</td>\n",
       "      <td>0.093035</td>\n",
       "      <td>1000.000000</td>\n",
       "    </tr>\n",
       "    <tr>\n",
       "      <th>3</th>\n",
       "      <td>3</td>\n",
       "      <td>none</td>\n",
       "      <td>none</td>\n",
       "      <td>cd2c63f4-a3f8-11ec-a386-0242ac110002</td>\n",
       "      <td>0</td>\n",
       "      <td>0.272273</td>\n",
       "      <td>0.491445</td>\n",
       "      <td>0.093035</td>\n",
       "      <td>1000.000000</td>\n",
       "    </tr>\n",
       "    <tr>\n",
       "      <th>4</th>\n",
       "      <td>4</td>\n",
       "      <td>none</td>\n",
       "      <td>none</td>\n",
       "      <td>cd2c666a-a3f8-11ec-a386-0242ac110002</td>\n",
       "      <td>0</td>\n",
       "      <td>0.617897</td>\n",
       "      <td>0.175854</td>\n",
       "      <td>0.093035</td>\n",
       "      <td>1000.000000</td>\n",
       "    </tr>\n",
       "    <tr>\n",
       "      <th>...</th>\n",
       "      <td>...</td>\n",
       "      <td>...</td>\n",
       "      <td>...</td>\n",
       "      <td>...</td>\n",
       "      <td>...</td>\n",
       "      <td>...</td>\n",
       "      <td>...</td>\n",
       "      <td>...</td>\n",
       "      <td>...</td>\n",
       "    </tr>\n",
       "    <tr>\n",
       "      <th>4095</th>\n",
       "      <td>251</td>\n",
       "      <td>none</td>\n",
       "      <td>none</td>\n",
       "      <td>ec3f68d6-a3f8-11ec-a386-0242ac110002</td>\n",
       "      <td>300</td>\n",
       "      <td>0.601698</td>\n",
       "      <td>0.317893</td>\n",
       "      <td>0.131071</td>\n",
       "      <td>0.101928</td>\n",
       "    </tr>\n",
       "    <tr>\n",
       "      <th>4096</th>\n",
       "      <td>252</td>\n",
       "      <td>none</td>\n",
       "      <td>none</td>\n",
       "      <td>ec595656-a3f8-11ec-a386-0242ac110002</td>\n",
       "      <td>300</td>\n",
       "      <td>0.576340</td>\n",
       "      <td>0.420883</td>\n",
       "      <td>0.131071</td>\n",
       "      <td>0.026314</td>\n",
       "    </tr>\n",
       "    <tr>\n",
       "      <th>4097</th>\n",
       "      <td>253</td>\n",
       "      <td>none</td>\n",
       "      <td>none</td>\n",
       "      <td>ec596cc2-a3f8-11ec-a386-0242ac110002</td>\n",
       "      <td>300</td>\n",
       "      <td>0.323637</td>\n",
       "      <td>0.472052</td>\n",
       "      <td>0.131071</td>\n",
       "      <td>0.034546</td>\n",
       "    </tr>\n",
       "    <tr>\n",
       "      <th>4098</th>\n",
       "      <td>254</td>\n",
       "      <td>none</td>\n",
       "      <td>none</td>\n",
       "      <td>ec596df8-a3f8-11ec-a386-0242ac110002</td>\n",
       "      <td>300</td>\n",
       "      <td>0.423285</td>\n",
       "      <td>0.611751</td>\n",
       "      <td>0.131071</td>\n",
       "      <td>0.069813</td>\n",
       "    </tr>\n",
       "    <tr>\n",
       "      <th>4099</th>\n",
       "      <td>255</td>\n",
       "      <td>none</td>\n",
       "      <td>none</td>\n",
       "      <td>ec59788e-a3f8-11ec-a386-0242ac110002</td>\n",
       "      <td>300</td>\n",
       "      <td>0.205403</td>\n",
       "      <td>0.671182</td>\n",
       "      <td>0.131071</td>\n",
       "      <td>0.031869</td>\n",
       "    </tr>\n",
       "  </tbody>\n",
       "</table>\n",
       "<p>4100 rows × 9 columns</p>\n",
       "</div>"
      ],
      "text/plain": [
       "      Unnamed: 0 parent  next                                    id    i  \\\n",
       "0              0   none  none  cd2b93c0-a3f8-11ec-a386-0242ac110002    0   \n",
       "1              1   none  none  cd2bf2ca-a3f8-11ec-a386-0242ac110002    0   \n",
       "2              2   none  none  cd2c61a6-a3f8-11ec-a386-0242ac110002    0   \n",
       "3              3   none  none  cd2c63f4-a3f8-11ec-a386-0242ac110002    0   \n",
       "4              4   none  none  cd2c666a-a3f8-11ec-a386-0242ac110002    0   \n",
       "...          ...    ...   ...                                   ...  ...   \n",
       "4095         251   none  none  ec3f68d6-a3f8-11ec-a386-0242ac110002  300   \n",
       "4096         252   none  none  ec595656-a3f8-11ec-a386-0242ac110002  300   \n",
       "4097         253   none  none  ec596cc2-a3f8-11ec-a386-0242ac110002  300   \n",
       "4098         254   none  none  ec596df8-a3f8-11ec-a386-0242ac110002  300   \n",
       "4099         255   none  none  ec59788e-a3f8-11ec-a386-0242ac110002  300   \n",
       "\n",
       "             x         y  prob_div         dist  \n",
       "0     0.562501  0.686052  0.093035  1000.000000  \n",
       "1     0.387634  0.717464  0.093035  1000.000000  \n",
       "2     0.237356  0.179582  0.093035  1000.000000  \n",
       "3     0.272273  0.491445  0.093035  1000.000000  \n",
       "4     0.617897  0.175854  0.093035  1000.000000  \n",
       "...        ...       ...       ...          ...  \n",
       "4095  0.601698  0.317893  0.131071     0.101928  \n",
       "4096  0.576340  0.420883  0.131071     0.026314  \n",
       "4097  0.323637  0.472052  0.131071     0.034546  \n",
       "4098  0.423285  0.611751  0.131071     0.069813  \n",
       "4099  0.205403  0.671182  0.131071     0.031869  \n",
       "\n",
       "[4100 rows x 9 columns]"
      ]
     },
     "execution_count": 173,
     "metadata": {},
     "output_type": "execute_result"
    }
   ],
   "source": [
    "df"
   ]
  },
  {
   "cell_type": "code",
   "execution_count": 175,
   "id": "b0ebf110",
   "metadata": {},
   "outputs": [],
   "source": [
    "fpr, tpr, threshold = roc_curve(df['true'], df['prob_div'])"
   ]
  },
  {
   "cell_type": "code",
   "execution_count": 176,
   "id": "d5ef7593",
   "metadata": {},
   "outputs": [
    {
     "data": {
      "text/plain": [
       "0.5507840531933978"
      ]
     },
     "execution_count": 176,
     "metadata": {},
     "output_type": "execute_result"
    }
   ],
   "source": [
    "auc(fpr,tpr)"
   ]
  },
  {
   "cell_type": "markdown",
   "id": "9cd813e3",
   "metadata": {},
   "source": [
    "Next: get the average AUC scores for all four of the experiments that I also have graphs for\n",
    "Then write up stuff for another hour or so\n",
    "\n",
    "Then work on the Hawkes process model"
   ]
  },
  {
   "cell_type": "code",
   "execution_count": 391,
   "id": "609da585",
   "metadata": {},
   "outputs": [
    {
     "data": {
      "text/html": [
       "<div>\n",
       "<style scoped>\n",
       "    .dataframe tbody tr th:only-of-type {\n",
       "        vertical-align: middle;\n",
       "    }\n",
       "\n",
       "    .dataframe tbody tr th {\n",
       "        vertical-align: top;\n",
       "    }\n",
       "\n",
       "    .dataframe thead th {\n",
       "        text-align: right;\n",
       "    }\n",
       "</style>\n",
       "<table border=\"1\" class=\"dataframe\">\n",
       "  <thead>\n",
       "    <tr style=\"text-align: right;\">\n",
       "      <th></th>\n",
       "      <th>Unnamed: 0</th>\n",
       "      <th>parent</th>\n",
       "      <th>next</th>\n",
       "      <th>id</th>\n",
       "      <th>i</th>\n",
       "      <th>x</th>\n",
       "      <th>y</th>\n",
       "    </tr>\n",
       "  </thead>\n",
       "  <tbody>\n",
       "    <tr>\n",
       "      <th>485</th>\n",
       "      <td>1</td>\n",
       "      <td>none</td>\n",
       "      <td>div</td>\n",
       "      <td>3614e848-a442-11ec-a386-0242ac110002</td>\n",
       "      <td>40</td>\n",
       "      <td>0.649290</td>\n",
       "      <td>0.741986</td>\n",
       "    </tr>\n",
       "    <tr>\n",
       "      <th>1544</th>\n",
       "      <td>0</td>\n",
       "      <td>none</td>\n",
       "      <td>none</td>\n",
       "      <td>3614e848-a442-11ec-a386-0242ac110002</td>\n",
       "      <td>120</td>\n",
       "      <td>0.637485</td>\n",
       "      <td>0.765026</td>\n",
       "    </tr>\n",
       "    <tr>\n",
       "      <th>1805</th>\n",
       "      <td>0</td>\n",
       "      <td>none</td>\n",
       "      <td>none</td>\n",
       "      <td>3614e848-a442-11ec-a386-0242ac110002</td>\n",
       "      <td>140</td>\n",
       "      <td>0.629955</td>\n",
       "      <td>0.755937</td>\n",
       "    </tr>\n",
       "    <tr>\n",
       "      <th>2317</th>\n",
       "      <td>0</td>\n",
       "      <td>3bd7f1da-a442-11ec-a386-0242ac110002</td>\n",
       "      <td>del</td>\n",
       "      <td>3614e848-a442-11ec-a386-0242ac110002</td>\n",
       "      <td>180</td>\n",
       "      <td>0.630599</td>\n",
       "      <td>0.750652</td>\n",
       "    </tr>\n",
       "  </tbody>\n",
       "</table>\n",
       "</div>"
      ],
      "text/plain": [
       "      Unnamed: 0                                parent  next  \\\n",
       "485            1                                  none   div   \n",
       "1544           0                                  none  none   \n",
       "1805           0                                  none  none   \n",
       "2317           0  3bd7f1da-a442-11ec-a386-0242ac110002   del   \n",
       "\n",
       "                                        id    i         x         y  \n",
       "485   3614e848-a442-11ec-a386-0242ac110002   40  0.649290  0.741986  \n",
       "1544  3614e848-a442-11ec-a386-0242ac110002  120  0.637485  0.765026  \n",
       "1805  3614e848-a442-11ec-a386-0242ac110002  140  0.629955  0.755937  \n",
       "2317  3614e848-a442-11ec-a386-0242ac110002  180  0.630599  0.750652  "
      ]
     },
     "execution_count": 391,
     "metadata": {},
     "output_type": "execute_result"
    }
   ],
   "source": [
    "a[a['id']==\"3614e848-a442-11ec-a386-0242ac110002\"]"
   ]
  },
  {
   "cell_type": "markdown",
   "id": "0dd9dfb0",
   "metadata": {},
   "source": [
    "Basically my idea with the AUC score is that you can look at the min distance to a div/del and get the probability based on that (where it goes to baseline probability if no distance from 2 timesteps ago was recorded). basically as simple as it can possibly get. Then, should be able to set tp ratio and get the score somehow?\n",
    "\n",
    "If that doesn't give a score above .5, then there are some modifications we can make to make it better:\n",
    "- baseline will actually be lower than .1 to avg out with the higher than .1 with history\n",
    "- can switch probabilities to min distance rather than looking at every single cell (not actually sure what's going on here but that might be a thing)\n",
    "\n",
    "But hopefully it just gives something above .5 that's usable, and then I can say look you can get at least something out of this.\n",
    "\n",
    "Could also look at probabilities over the next 2 timesteps, etc. Lot of options but if my intuition is correct, because we have a good peak, we should be able to get >.5 with the simplest model. "
   ]
  },
  {
   "cell_type": "code",
   "execution_count": 392,
   "id": "93e108c4",
   "metadata": {},
   "outputs": [
    {
     "data": {
      "text/html": [
       "<div>\n",
       "<style scoped>\n",
       "    .dataframe tbody tr th:only-of-type {\n",
       "        vertical-align: middle;\n",
       "    }\n",
       "\n",
       "    .dataframe tbody tr th {\n",
       "        vertical-align: top;\n",
       "    }\n",
       "\n",
       "    .dataframe thead th {\n",
       "        text-align: right;\n",
       "    }\n",
       "</style>\n",
       "<table border=\"1\" class=\"dataframe\">\n",
       "  <thead>\n",
       "    <tr style=\"text-align: right;\">\n",
       "      <th></th>\n",
       "      <th>Unnamed: 0</th>\n",
       "      <th>parent</th>\n",
       "      <th>id</th>\n",
       "      <th>i</th>\n",
       "      <th>x</th>\n",
       "      <th>y</th>\n",
       "    </tr>\n",
       "    <tr>\n",
       "      <th>next</th>\n",
       "      <th></th>\n",
       "      <th></th>\n",
       "      <th></th>\n",
       "      <th></th>\n",
       "      <th></th>\n",
       "      <th></th>\n",
       "    </tr>\n",
       "  </thead>\n",
       "  <tbody>\n",
       "    <tr>\n",
       "      <th>del</th>\n",
       "      <td>157</td>\n",
       "      <td>157</td>\n",
       "      <td>157</td>\n",
       "      <td>157</td>\n",
       "      <td>157</td>\n",
       "      <td>157</td>\n",
       "    </tr>\n",
       "    <tr>\n",
       "      <th>div</th>\n",
       "      <td>154</td>\n",
       "      <td>154</td>\n",
       "      <td>154</td>\n",
       "      <td>154</td>\n",
       "      <td>154</td>\n",
       "      <td>154</td>\n",
       "    </tr>\n",
       "    <tr>\n",
       "      <th>none</th>\n",
       "      <td>1080</td>\n",
       "      <td>1080</td>\n",
       "      <td>1080</td>\n",
       "      <td>1080</td>\n",
       "      <td>1080</td>\n",
       "      <td>1080</td>\n",
       "    </tr>\n",
       "  </tbody>\n",
       "</table>\n",
       "</div>"
      ],
      "text/plain": [
       "      Unnamed: 0  parent    id     i     x     y\n",
       "next                                            \n",
       "del          157     157   157   157   157   157\n",
       "div          154     154   154   154   154   154\n",
       "none        1080    1080  1080  1080  1080  1080"
      ]
     },
     "execution_count": 392,
     "metadata": {},
     "output_type": "execute_result"
    }
   ],
   "source": [
    "a.groupby('next').count()"
   ]
  },
  {
   "cell_type": "code",
   "execution_count": 102,
   "id": "c7fa2609",
   "metadata": {},
   "outputs": [
    {
     "data": {
      "text/html": [
       "<div>\n",
       "<style scoped>\n",
       "    .dataframe tbody tr th:only-of-type {\n",
       "        vertical-align: middle;\n",
       "    }\n",
       "\n",
       "    .dataframe tbody tr th {\n",
       "        vertical-align: top;\n",
       "    }\n",
       "\n",
       "    .dataframe thead th {\n",
       "        text-align: right;\n",
       "    }\n",
       "</style>\n",
       "<table border=\"1\" class=\"dataframe\">\n",
       "  <thead>\n",
       "    <tr style=\"text-align: right;\">\n",
       "      <th></th>\n",
       "      <th>Unnamed: 0</th>\n",
       "      <th>parent</th>\n",
       "      <th>next</th>\n",
       "      <th>id</th>\n",
       "      <th>i</th>\n",
       "      <th>x</th>\n",
       "      <th>y</th>\n",
       "      <th>prob_div</th>\n",
       "      <th>true</th>\n",
       "    </tr>\n",
       "  </thead>\n",
       "  <tbody>\n",
       "    <tr>\n",
       "      <th>0</th>\n",
       "      <td>0</td>\n",
       "      <td>none</td>\n",
       "      <td>none</td>\n",
       "      <td>cbd1bc8c-a440-11ec-a386-0242ac110002</td>\n",
       "      <td>0</td>\n",
       "      <td>0.314488</td>\n",
       "      <td>0.356626</td>\n",
       "      <td>0.093035</td>\n",
       "      <td>0</td>\n",
       "    </tr>\n",
       "    <tr>\n",
       "      <th>1</th>\n",
       "      <td>1</td>\n",
       "      <td>none</td>\n",
       "      <td>none</td>\n",
       "      <td>cbd1ca2e-a440-11ec-a386-0242ac110002</td>\n",
       "      <td>0</td>\n",
       "      <td>0.484421</td>\n",
       "      <td>0.759583</td>\n",
       "      <td>0.093035</td>\n",
       "      <td>0</td>\n",
       "    </tr>\n",
       "    <tr>\n",
       "      <th>2</th>\n",
       "      <td>2</td>\n",
       "      <td>none</td>\n",
       "      <td>none</td>\n",
       "      <td>cbd20d36-a440-11ec-a386-0242ac110002</td>\n",
       "      <td>0</td>\n",
       "      <td>0.215891</td>\n",
       "      <td>0.205842</td>\n",
       "      <td>0.093035</td>\n",
       "      <td>0</td>\n",
       "    </tr>\n",
       "    <tr>\n",
       "      <th>3</th>\n",
       "      <td>3</td>\n",
       "      <td>none</td>\n",
       "      <td>none</td>\n",
       "      <td>cbd21c5e-a440-11ec-a386-0242ac110002</td>\n",
       "      <td>0</td>\n",
       "      <td>0.629827</td>\n",
       "      <td>0.426554</td>\n",
       "      <td>0.093035</td>\n",
       "      <td>0</td>\n",
       "    </tr>\n",
       "    <tr>\n",
       "      <th>4</th>\n",
       "      <td>4</td>\n",
       "      <td>none</td>\n",
       "      <td>none</td>\n",
       "      <td>cbd2666e-a440-11ec-a386-0242ac110002</td>\n",
       "      <td>0</td>\n",
       "      <td>0.415513</td>\n",
       "      <td>0.582253</td>\n",
       "      <td>0.093035</td>\n",
       "      <td>0</td>\n",
       "    </tr>\n",
       "    <tr>\n",
       "      <th>...</th>\n",
       "      <td>...</td>\n",
       "      <td>...</td>\n",
       "      <td>...</td>\n",
       "      <td>...</td>\n",
       "      <td>...</td>\n",
       "      <td>...</td>\n",
       "      <td>...</td>\n",
       "      <td>...</td>\n",
       "      <td>...</td>\n",
       "    </tr>\n",
       "    <tr>\n",
       "      <th>4060</th>\n",
       "      <td>264</td>\n",
       "      <td>none</td>\n",
       "      <td>none</td>\n",
       "      <td>ebba79d0-a440-11ec-a386-0242ac110002</td>\n",
       "      <td>299</td>\n",
       "      <td>0.823300</td>\n",
       "      <td>0.175563</td>\n",
       "      <td>0.093035</td>\n",
       "      <td>0</td>\n",
       "    </tr>\n",
       "    <tr>\n",
       "      <th>4061</th>\n",
       "      <td>265</td>\n",
       "      <td>none</td>\n",
       "      <td>none</td>\n",
       "      <td>ebc3727e-a440-11ec-a386-0242ac110002</td>\n",
       "      <td>300</td>\n",
       "      <td>0.682235</td>\n",
       "      <td>0.723395</td>\n",
       "      <td>0.093035</td>\n",
       "      <td>0</td>\n",
       "    </tr>\n",
       "    <tr>\n",
       "      <th>4062</th>\n",
       "      <td>266</td>\n",
       "      <td>none</td>\n",
       "      <td>none</td>\n",
       "      <td>ebc38d2c-a440-11ec-a386-0242ac110002</td>\n",
       "      <td>300</td>\n",
       "      <td>0.199808</td>\n",
       "      <td>0.759743</td>\n",
       "      <td>0.093035</td>\n",
       "      <td>0</td>\n",
       "    </tr>\n",
       "    <tr>\n",
       "      <th>4063</th>\n",
       "      <td>267</td>\n",
       "      <td>none</td>\n",
       "      <td>none</td>\n",
       "      <td>ebc399a2-a440-11ec-a386-0242ac110002</td>\n",
       "      <td>300</td>\n",
       "      <td>0.491955</td>\n",
       "      <td>0.529859</td>\n",
       "      <td>0.093035</td>\n",
       "      <td>0</td>\n",
       "    </tr>\n",
       "    <tr>\n",
       "      <th>4064</th>\n",
       "      <td>268</td>\n",
       "      <td>none</td>\n",
       "      <td>none</td>\n",
       "      <td>ebd562a4-a440-11ec-a386-0242ac110002</td>\n",
       "      <td>300</td>\n",
       "      <td>0.774510</td>\n",
       "      <td>0.471781</td>\n",
       "      <td>0.093035</td>\n",
       "      <td>0</td>\n",
       "    </tr>\n",
       "  </tbody>\n",
       "</table>\n",
       "<p>4065 rows × 9 columns</p>\n",
       "</div>"
      ],
      "text/plain": [
       "      Unnamed: 0 parent  next                                    id    i  \\\n",
       "0              0   none  none  cbd1bc8c-a440-11ec-a386-0242ac110002    0   \n",
       "1              1   none  none  cbd1ca2e-a440-11ec-a386-0242ac110002    0   \n",
       "2              2   none  none  cbd20d36-a440-11ec-a386-0242ac110002    0   \n",
       "3              3   none  none  cbd21c5e-a440-11ec-a386-0242ac110002    0   \n",
       "4              4   none  none  cbd2666e-a440-11ec-a386-0242ac110002    0   \n",
       "...          ...    ...   ...                                   ...  ...   \n",
       "4060         264   none  none  ebba79d0-a440-11ec-a386-0242ac110002  299   \n",
       "4061         265   none  none  ebc3727e-a440-11ec-a386-0242ac110002  300   \n",
       "4062         266   none  none  ebc38d2c-a440-11ec-a386-0242ac110002  300   \n",
       "4063         267   none  none  ebc399a2-a440-11ec-a386-0242ac110002  300   \n",
       "4064         268   none  none  ebd562a4-a440-11ec-a386-0242ac110002  300   \n",
       "\n",
       "             x         y  prob_div  true  \n",
       "0     0.314488  0.356626  0.093035     0  \n",
       "1     0.484421  0.759583  0.093035     0  \n",
       "2     0.215891  0.205842  0.093035     0  \n",
       "3     0.629827  0.426554  0.093035     0  \n",
       "4     0.415513  0.582253  0.093035     0  \n",
       "...        ...       ...       ...   ...  \n",
       "4060  0.823300  0.175563  0.093035     0  \n",
       "4061  0.682235  0.723395  0.093035     0  \n",
       "4062  0.199808  0.759743  0.093035     0  \n",
       "4063  0.491955  0.529859  0.093035     0  \n",
       "4064  0.774510  0.471781  0.093035     0  \n",
       "\n",
       "[4065 rows x 9 columns]"
      ]
     },
     "execution_count": 102,
     "metadata": {},
     "output_type": "execute_result"
    }
   ],
   "source": [
    "df"
   ]
  },
  {
   "cell_type": "code",
   "execution_count": null,
   "id": "85211751",
   "metadata": {},
   "outputs": [],
   "source": []
  },
  {
   "cell_type": "code",
   "execution_count": 375,
   "id": "f1d34a6a",
   "metadata": {},
   "outputs": [
    {
     "name": "stdout",
     "output_type": "stream",
     "text": [
      "0.06255128822554372 7.358330861973458e-05\n"
     ]
    }
   ],
   "source": [
    "d=np.array(d)\n",
    "print(d.mean(), d.var())"
   ]
  },
  {
   "cell_type": "code",
   "execution_count": 358,
   "id": "00aca614",
   "metadata": {},
   "outputs": [],
   "source": [
    "snapshot = df[df['i']==20].copy()"
   ]
  },
  {
   "cell_type": "code",
   "execution_count": 312,
   "id": "2fc01e5a",
   "metadata": {},
   "outputs": [],
   "source": [
    "dels = df[(df['i']==20) & (df['next']==\"del\")]"
   ]
  },
  {
   "cell_type": "code",
   "execution_count": 313,
   "id": "8370f0ad",
   "metadata": {},
   "outputs": [],
   "source": [
    "snapshot['distances'] = np.sqrt(np.power(dels.iat[3,5]-snapshot['x'],2) + np.power(dels.iat[3,6] - snapshot['y'],2))"
   ]
  },
  {
   "cell_type": "code",
   "execution_count": 314,
   "id": "d350edea",
   "metadata": {},
   "outputs": [],
   "source": [
    "close = snapshot.sort_values('distances').head(7).tail(6)['id']"
   ]
  },
  {
   "cell_type": "code",
   "execution_count": 318,
   "id": "fa1aeee3",
   "metadata": {},
   "outputs": [
    {
     "data": {
      "text/html": [
       "<div>\n",
       "<style scoped>\n",
       "    .dataframe tbody tr th:only-of-type {\n",
       "        vertical-align: middle;\n",
       "    }\n",
       "\n",
       "    .dataframe tbody tr th {\n",
       "        vertical-align: top;\n",
       "    }\n",
       "\n",
       "    .dataframe thead th {\n",
       "        text-align: right;\n",
       "    }\n",
       "</style>\n",
       "<table border=\"1\" class=\"dataframe\">\n",
       "  <thead>\n",
       "    <tr style=\"text-align: right;\">\n",
       "      <th></th>\n",
       "      <th>Unnamed: 0</th>\n",
       "      <th>parent</th>\n",
       "      <th>next</th>\n",
       "      <th>id</th>\n",
       "      <th>i</th>\n",
       "      <th>x</th>\n",
       "      <th>y</th>\n",
       "    </tr>\n",
       "  </thead>\n",
       "  <tbody>\n",
       "    <tr>\n",
       "      <th>1259</th>\n",
       "      <td>9</td>\n",
       "      <td>none</td>\n",
       "      <td>none</td>\n",
       "      <td>cd2f38d6-a3f8-11ec-a386-0242ac110002</td>\n",
       "      <td>100</td>\n",
       "      <td>0.717097</td>\n",
       "      <td>0.511433</td>\n",
       "    </tr>\n",
       "    <tr>\n",
       "      <th>1315</th>\n",
       "      <td>65</td>\n",
       "      <td>none</td>\n",
       "      <td>none</td>\n",
       "      <td>d9fca04e-a3f8-11ec-a386-0242ac110002</td>\n",
       "      <td>100</td>\n",
       "      <td>0.752177</td>\n",
       "      <td>0.513888</td>\n",
       "    </tr>\n",
       "    <tr>\n",
       "      <th>1359</th>\n",
       "      <td>109</td>\n",
       "      <td>none</td>\n",
       "      <td>none</td>\n",
       "      <td>dc3b3cf8-a3f8-11ec-a386-0242ac110002</td>\n",
       "      <td>100</td>\n",
       "      <td>0.715231</td>\n",
       "      <td>0.475929</td>\n",
       "    </tr>\n",
       "    <tr>\n",
       "      <th>1382</th>\n",
       "      <td>132</td>\n",
       "      <td>none</td>\n",
       "      <td>none</td>\n",
       "      <td>dd033564-a3f8-11ec-a386-0242ac110002</td>\n",
       "      <td>100</td>\n",
       "      <td>0.741069</td>\n",
       "      <td>0.557672</td>\n",
       "    </tr>\n",
       "  </tbody>\n",
       "</table>\n",
       "</div>"
      ],
      "text/plain": [
       "      Unnamed: 0 parent  next                                    id    i  \\\n",
       "1259           9   none  none  cd2f38d6-a3f8-11ec-a386-0242ac110002  100   \n",
       "1315          65   none  none  d9fca04e-a3f8-11ec-a386-0242ac110002  100   \n",
       "1359         109   none  none  dc3b3cf8-a3f8-11ec-a386-0242ac110002  100   \n",
       "1382         132   none  none  dd033564-a3f8-11ec-a386-0242ac110002  100   \n",
       "\n",
       "             x         y  \n",
       "1259  0.717097  0.511433  \n",
       "1315  0.752177  0.513888  \n",
       "1359  0.715231  0.475929  \n",
       "1382  0.741069  0.557672  "
      ]
     },
     "execution_count": 318,
     "metadata": {},
     "output_type": "execute_result"
    }
   ],
   "source": [
    "df[(df['i']==100) & (df['id'].isin(close))]"
   ]
  },
  {
   "cell_type": "code",
   "execution_count": 147,
   "id": "33a5d2a0",
   "metadata": {},
   "outputs": [
    {
     "data": {
      "text/plain": [
       "0.8036918947379584"
      ]
     },
     "execution_count": 147,
     "metadata": {},
     "output_type": "execute_result"
    }
   ],
   "source": []
  },
  {
   "cell_type": "markdown",
   "id": "a475a302",
   "metadata": {},
   "source": [
    "Thought experiment. Why would new cells be more likely to have no behavior? actually that does make sense-- they can't have any behavior for at least a couple timesteps, which could alter the ratios a little bit. \n",
    "\n",
    "Then, maybe just take a closer look at the numbers? Is there a trend that I'm just not really seeing that is actually there, and just less noticeable than I would like? \n",
    "\n",
    "Plot: the change over time with fixed distance, change over distance with fixed time\n",
    "\n",
    "Also compare more directly the ratios for div and del. those will be useful plots anyway, even if there's another bug to catch"
   ]
  },
  {
   "cell_type": "code",
   "execution_count": 227,
   "id": "8d5f4dc3",
   "metadata": {},
   "outputs": [],
   "source": [
    "dels = df[(df['i']==60) & (df['next']==\"del\")]"
   ]
  },
  {
   "cell_type": "code",
   "execution_count": 228,
   "id": "7f33af1b",
   "metadata": {},
   "outputs": [
    {
     "data": {
      "text/html": [
       "<div>\n",
       "<style scoped>\n",
       "    .dataframe tbody tr th:only-of-type {\n",
       "        vertical-align: middle;\n",
       "    }\n",
       "\n",
       "    .dataframe tbody tr th {\n",
       "        vertical-align: top;\n",
       "    }\n",
       "\n",
       "    .dataframe thead th {\n",
       "        text-align: right;\n",
       "    }\n",
       "</style>\n",
       "<table border=\"1\" class=\"dataframe\">\n",
       "  <thead>\n",
       "    <tr style=\"text-align: right;\">\n",
       "      <th></th>\n",
       "      <th>Unnamed: 0</th>\n",
       "      <th>next</th>\n",
       "      <th>id</th>\n",
       "      <th>i</th>\n",
       "      <th>x</th>\n",
       "      <th>y</th>\n",
       "    </tr>\n",
       "  </thead>\n",
       "  <tbody>\n",
       "    <tr>\n",
       "      <th>743</th>\n",
       "      <td>23</td>\n",
       "      <td>del</td>\n",
       "      <td>9f04bef8-a1fb-11ec-babe-0242ac110002</td>\n",
       "      <td>60</td>\n",
       "      <td>0.746027</td>\n",
       "      <td>0.273514</td>\n",
       "    </tr>\n",
       "    <tr>\n",
       "      <th>749</th>\n",
       "      <td>29</td>\n",
       "      <td>del</td>\n",
       "      <td>a7de3eb4-a1fb-11ec-babe-0242ac110002</td>\n",
       "      <td>60</td>\n",
       "      <td>0.438373</td>\n",
       "      <td>0.576721</td>\n",
       "    </tr>\n",
       "    <tr>\n",
       "      <th>764</th>\n",
       "      <td>44</td>\n",
       "      <td>del</td>\n",
       "      <td>a87f430e-a1fb-11ec-babe-0242ac110002</td>\n",
       "      <td>60</td>\n",
       "      <td>0.303725</td>\n",
       "      <td>0.192463</td>\n",
       "    </tr>\n",
       "    <tr>\n",
       "      <th>783</th>\n",
       "      <td>63</td>\n",
       "      <td>del</td>\n",
       "      <td>aab3ffa2-a1fb-11ec-babe-0242ac110002</td>\n",
       "      <td>60</td>\n",
       "      <td>0.665872</td>\n",
       "      <td>0.701557</td>\n",
       "    </tr>\n",
       "    <tr>\n",
       "      <th>792</th>\n",
       "      <td>72</td>\n",
       "      <td>del</td>\n",
       "      <td>ab268e1e-a1fb-11ec-babe-0242ac110002</td>\n",
       "      <td>60</td>\n",
       "      <td>0.705648</td>\n",
       "      <td>0.687614</td>\n",
       "    </tr>\n",
       "    <tr>\n",
       "      <th>793</th>\n",
       "      <td>73</td>\n",
       "      <td>del</td>\n",
       "      <td>ab3dd952-a1fb-11ec-babe-0242ac110002</td>\n",
       "      <td>60</td>\n",
       "      <td>0.751949</td>\n",
       "      <td>0.350613</td>\n",
       "    </tr>\n",
       "    <tr>\n",
       "      <th>799</th>\n",
       "      <td>79</td>\n",
       "      <td>del</td>\n",
       "      <td>ab733958-a1fb-11ec-babe-0242ac110002</td>\n",
       "      <td>60</td>\n",
       "      <td>0.487694</td>\n",
       "      <td>0.284364</td>\n",
       "    </tr>\n",
       "    <tr>\n",
       "      <th>807</th>\n",
       "      <td>87</td>\n",
       "      <td>del</td>\n",
       "      <td>abee262c-a1fb-11ec-babe-0242ac110002</td>\n",
       "      <td>60</td>\n",
       "      <td>0.504245</td>\n",
       "      <td>0.713132</td>\n",
       "    </tr>\n",
       "    <tr>\n",
       "      <th>810</th>\n",
       "      <td>90</td>\n",
       "      <td>del</td>\n",
       "      <td>abf5cbc0-a1fb-11ec-babe-0242ac110002</td>\n",
       "      <td>60</td>\n",
       "      <td>0.328455</td>\n",
       "      <td>0.814133</td>\n",
       "    </tr>\n",
       "    <tr>\n",
       "      <th>821</th>\n",
       "      <td>101</td>\n",
       "      <td>del</td>\n",
       "      <td>ac798460-a1fb-11ec-babe-0242ac110002</td>\n",
       "      <td>60</td>\n",
       "      <td>0.636679</td>\n",
       "      <td>0.593010</td>\n",
       "    </tr>\n",
       "    <tr>\n",
       "      <th>830</th>\n",
       "      <td>110</td>\n",
       "      <td>del</td>\n",
       "      <td>ace5d98a-a1fb-11ec-babe-0242ac110002</td>\n",
       "      <td>60</td>\n",
       "      <td>0.711717</td>\n",
       "      <td>0.372859</td>\n",
       "    </tr>\n",
       "    <tr>\n",
       "      <th>832</th>\n",
       "      <td>112</td>\n",
       "      <td>del</td>\n",
       "      <td>acfd70d6-a1fb-11ec-babe-0242ac110002</td>\n",
       "      <td>60</td>\n",
       "      <td>0.504093</td>\n",
       "      <td>0.495503</td>\n",
       "    </tr>\n",
       "    <tr>\n",
       "      <th>841</th>\n",
       "      <td>121</td>\n",
       "      <td>del</td>\n",
       "      <td>ad6a6fa6-a1fb-11ec-babe-0242ac110002</td>\n",
       "      <td>60</td>\n",
       "      <td>0.243765</td>\n",
       "      <td>0.537864</td>\n",
       "    </tr>\n",
       "    <tr>\n",
       "      <th>854</th>\n",
       "      <td>134</td>\n",
       "      <td>del</td>\n",
       "      <td>adc74eec-a1fb-11ec-babe-0242ac110002</td>\n",
       "      <td>60</td>\n",
       "      <td>0.394362</td>\n",
       "      <td>0.725847</td>\n",
       "    </tr>\n",
       "    <tr>\n",
       "      <th>857</th>\n",
       "      <td>137</td>\n",
       "      <td>del</td>\n",
       "      <td>ae0e3e38-a1fb-11ec-babe-0242ac110002</td>\n",
       "      <td>60</td>\n",
       "      <td>0.493473</td>\n",
       "      <td>0.177681</td>\n",
       "    </tr>\n",
       "    <tr>\n",
       "      <th>862</th>\n",
       "      <td>142</td>\n",
       "      <td>del</td>\n",
       "      <td>ae25456a-a1fb-11ec-babe-0242ac110002</td>\n",
       "      <td>60</td>\n",
       "      <td>0.603658</td>\n",
       "      <td>0.532580</td>\n",
       "    </tr>\n",
       "    <tr>\n",
       "      <th>890</th>\n",
       "      <td>170</td>\n",
       "      <td>del</td>\n",
       "      <td>aef54f3a-a1fb-11ec-babe-0242ac110002</td>\n",
       "      <td>60</td>\n",
       "      <td>0.211063</td>\n",
       "      <td>0.598400</td>\n",
       "    </tr>\n",
       "    <tr>\n",
       "      <th>891</th>\n",
       "      <td>171</td>\n",
       "      <td>del</td>\n",
       "      <td>aef56cc2-a1fb-11ec-babe-0242ac110002</td>\n",
       "      <td>60</td>\n",
       "      <td>0.598908</td>\n",
       "      <td>0.257827</td>\n",
       "    </tr>\n",
       "    <tr>\n",
       "      <th>897</th>\n",
       "      <td>177</td>\n",
       "      <td>del</td>\n",
       "      <td>af4face6-a1fb-11ec-babe-0242ac110002</td>\n",
       "      <td>60</td>\n",
       "      <td>0.250771</td>\n",
       "      <td>0.616600</td>\n",
       "    </tr>\n",
       "  </tbody>\n",
       "</table>\n",
       "</div>"
      ],
      "text/plain": [
       "     Unnamed: 0 next                                    id   i         x  \\\n",
       "743          23  del  9f04bef8-a1fb-11ec-babe-0242ac110002  60  0.746027   \n",
       "749          29  del  a7de3eb4-a1fb-11ec-babe-0242ac110002  60  0.438373   \n",
       "764          44  del  a87f430e-a1fb-11ec-babe-0242ac110002  60  0.303725   \n",
       "783          63  del  aab3ffa2-a1fb-11ec-babe-0242ac110002  60  0.665872   \n",
       "792          72  del  ab268e1e-a1fb-11ec-babe-0242ac110002  60  0.705648   \n",
       "793          73  del  ab3dd952-a1fb-11ec-babe-0242ac110002  60  0.751949   \n",
       "799          79  del  ab733958-a1fb-11ec-babe-0242ac110002  60  0.487694   \n",
       "807          87  del  abee262c-a1fb-11ec-babe-0242ac110002  60  0.504245   \n",
       "810          90  del  abf5cbc0-a1fb-11ec-babe-0242ac110002  60  0.328455   \n",
       "821         101  del  ac798460-a1fb-11ec-babe-0242ac110002  60  0.636679   \n",
       "830         110  del  ace5d98a-a1fb-11ec-babe-0242ac110002  60  0.711717   \n",
       "832         112  del  acfd70d6-a1fb-11ec-babe-0242ac110002  60  0.504093   \n",
       "841         121  del  ad6a6fa6-a1fb-11ec-babe-0242ac110002  60  0.243765   \n",
       "854         134  del  adc74eec-a1fb-11ec-babe-0242ac110002  60  0.394362   \n",
       "857         137  del  ae0e3e38-a1fb-11ec-babe-0242ac110002  60  0.493473   \n",
       "862         142  del  ae25456a-a1fb-11ec-babe-0242ac110002  60  0.603658   \n",
       "890         170  del  aef54f3a-a1fb-11ec-babe-0242ac110002  60  0.211063   \n",
       "891         171  del  aef56cc2-a1fb-11ec-babe-0242ac110002  60  0.598908   \n",
       "897         177  del  af4face6-a1fb-11ec-babe-0242ac110002  60  0.250771   \n",
       "\n",
       "            y  \n",
       "743  0.273514  \n",
       "749  0.576721  \n",
       "764  0.192463  \n",
       "783  0.701557  \n",
       "792  0.687614  \n",
       "793  0.350613  \n",
       "799  0.284364  \n",
       "807  0.713132  \n",
       "810  0.814133  \n",
       "821  0.593010  \n",
       "830  0.372859  \n",
       "832  0.495503  \n",
       "841  0.537864  \n",
       "854  0.725847  \n",
       "857  0.177681  \n",
       "862  0.532580  \n",
       "890  0.598400  \n",
       "891  0.257827  \n",
       "897  0.616600  "
      ]
     },
     "execution_count": 228,
     "metadata": {},
     "output_type": "execute_result"
    }
   ],
   "source": [
    "dels"
   ]
  },
  {
   "cell_type": "code",
   "execution_count": 230,
   "id": "9b56f289",
   "metadata": {},
   "outputs": [],
   "source": [
    "snapshot = df[df['i']==60].copy()"
   ]
  },
  {
   "cell_type": "code",
   "execution_count": 231,
   "id": "10339281",
   "metadata": {},
   "outputs": [],
   "source": [
    "snapshot['distances'] = np.sqrt(np.power(dels.iat[3,4]-snapshot['x'],2) + np.power(dels.iat[3,5] - snapshot['y'],2))"
   ]
  },
  {
   "cell_type": "code",
   "execution_count": 232,
   "id": "8af3a03f",
   "metadata": {},
   "outputs": [],
   "source": [
    "close = snapshot.sort_values('distances').head(7).tail(6)['id']"
   ]
  },
  {
   "cell_type": "code",
   "execution_count": 233,
   "id": "4115e70c",
   "metadata": {},
   "outputs": [
    {
     "data": {
      "text/html": [
       "<div>\n",
       "<style scoped>\n",
       "    .dataframe tbody tr th:only-of-type {\n",
       "        vertical-align: middle;\n",
       "    }\n",
       "\n",
       "    .dataframe tbody tr th {\n",
       "        vertical-align: top;\n",
       "    }\n",
       "\n",
       "    .dataframe thead th {\n",
       "        text-align: right;\n",
       "    }\n",
       "</style>\n",
       "<table border=\"1\" class=\"dataframe\">\n",
       "  <thead>\n",
       "    <tr style=\"text-align: right;\">\n",
       "      <th></th>\n",
       "      <th>Unnamed: 0</th>\n",
       "      <th>next</th>\n",
       "      <th>id</th>\n",
       "      <th>i</th>\n",
       "      <th>x</th>\n",
       "      <th>y</th>\n",
       "    </tr>\n",
       "  </thead>\n",
       "  <tbody>\n",
       "    <tr>\n",
       "      <th>1501</th>\n",
       "      <td>14</td>\n",
       "      <td>none</td>\n",
       "      <td>9f0475a6-a1fb-11ec-babe-0242ac110002</td>\n",
       "      <td>120</td>\n",
       "      <td>0.623021</td>\n",
       "      <td>0.671477</td>\n",
       "    </tr>\n",
       "    <tr>\n",
       "      <th>1542</th>\n",
       "      <td>55</td>\n",
       "      <td>del</td>\n",
       "      <td>abee2bb8-a1fb-11ec-babe-0242ac110002</td>\n",
       "      <td>120</td>\n",
       "      <td>0.769906</td>\n",
       "      <td>0.741090</td>\n",
       "    </tr>\n",
       "    <tr>\n",
       "      <th>1584</th>\n",
       "      <td>97</td>\n",
       "      <td>none</td>\n",
       "      <td>aea3b47c-a1fb-11ec-babe-0242ac110002</td>\n",
       "      <td>120</td>\n",
       "      <td>0.624837</td>\n",
       "      <td>0.716606</td>\n",
       "    </tr>\n",
       "    <tr>\n",
       "      <th>1605</th>\n",
       "      <td>118</td>\n",
       "      <td>del</td>\n",
       "      <td>af73d594-a1fb-11ec-babe-0242ac110002</td>\n",
       "      <td>120</td>\n",
       "      <td>0.704659</td>\n",
       "      <td>0.639523</td>\n",
       "    </tr>\n",
       "    <tr>\n",
       "      <th>1653</th>\n",
       "      <td>166</td>\n",
       "      <td>none</td>\n",
       "      <td>b1588918-a1fb-11ec-babe-0242ac110002</td>\n",
       "      <td>120</td>\n",
       "      <td>0.700129</td>\n",
       "      <td>0.748727</td>\n",
       "    </tr>\n",
       "  </tbody>\n",
       "</table>\n",
       "</div>"
      ],
      "text/plain": [
       "      Unnamed: 0  next                                    id    i         x  \\\n",
       "1501          14  none  9f0475a6-a1fb-11ec-babe-0242ac110002  120  0.623021   \n",
       "1542          55   del  abee2bb8-a1fb-11ec-babe-0242ac110002  120  0.769906   \n",
       "1584          97  none  aea3b47c-a1fb-11ec-babe-0242ac110002  120  0.624837   \n",
       "1605         118   del  af73d594-a1fb-11ec-babe-0242ac110002  120  0.704659   \n",
       "1653         166  none  b1588918-a1fb-11ec-babe-0242ac110002  120  0.700129   \n",
       "\n",
       "             y  \n",
       "1501  0.671477  \n",
       "1542  0.741090  \n",
       "1584  0.716606  \n",
       "1605  0.639523  \n",
       "1653  0.748727  "
      ]
     },
     "execution_count": 233,
     "metadata": {},
     "output_type": "execute_result"
    }
   ],
   "source": [
    "df[(df['i']==120) & (df['id'].isin(close))]"
   ]
  },
  {
   "cell_type": "code",
   "execution_count": 234,
   "id": "ec2359b4",
   "metadata": {},
   "outputs": [],
   "source": [
    "def get_ratio(df, distance, time, t):\n",
    "    \"\"\"\n",
    "    distance and time are cutoffs\n",
    "    t is div/del\n",
    "    \"\"\"\n",
    "    data = []\n",
    "    for i in range(20,301, 20):\n",
    "        events = df[(df['i']==i) & (df['next']==t)]\n",
    "        snapshot = df[(df['i']==i)].copy()\n",
    "        close = []\n",
    "        for j in range(len(events)):\n",
    "            snapshot['distance'] = np.sqrt(np.power(snapshot['x'] - events.iat[j,4],2) + np.power(snapshot['y'] - events.iat[j,5],2))\n",
    "            close.append(snapshot[(snapshot['distance']< distance) & (snapshot['distance'] >1e-6)])\n",
    "        close = pd.concat(close)['id'].unique()\n",
    "        data.append(df[(df['id'].isin(close)) & (df['i']== i + 20*time)].copy())\n",
    "    return pd.concat(data)"
   ]
  },
  {
   "cell_type": "code",
   "execution_count": 235,
   "id": "66a7512a",
   "metadata": {},
   "outputs": [
    {
     "name": "stdout",
     "output_type": "stream",
     "text": [
      "679\n"
     ]
    }
   ],
   "source": [
    "far = set(df['id'])\n",
    "print(len(far))\n",
    "for j in range(len(dels)):\n",
    "    snapshot['distance'] = np.sqrt(np.power(dels.iat[j,4]-snapshot['x'],2) + np.power(dels.iat[j,5] - snapshot['y'],2))\n",
    "    close = set(snapshot.sort_values('distance').head(7)['id'])\n",
    "    far -= close"
   ]
  },
  {
   "cell_type": "code",
   "execution_count": 236,
   "id": "d324650b",
   "metadata": {},
   "outputs": [
    {
     "data": {
      "text/plain": [
       "576"
      ]
     },
     "execution_count": 236,
     "metadata": {},
     "output_type": "execute_result"
    }
   ],
   "source": [
    "len(far)"
   ]
  },
  {
   "cell_type": "code",
   "execution_count": 237,
   "id": "3721b92f",
   "metadata": {},
   "outputs": [
    {
     "data": {
      "text/plain": [
       "19"
      ]
     },
     "execution_count": 237,
     "metadata": {},
     "output_type": "execute_result"
    }
   ],
   "source": [
    "len(df[(df['id'].isin(far)) & (df['i']==80) & (df['next']==\"div\")]) + len(df[(df['id'].isin(far)) & (df['i']==60) & (df['next']==\"div\")])"
   ]
  },
  {
   "cell_type": "markdown",
   "id": "e0a9eb29",
   "metadata": {},
   "source": [
    "if close and far aren't significantly different, there has to be a way that I am simulating things incorrectly"
   ]
  },
  {
   "cell_type": "code",
   "execution_count": 238,
   "id": "5b14b86f",
   "metadata": {},
   "outputs": [
    {
     "data": {
      "text/plain": [
       "20"
      ]
     },
     "execution_count": 238,
     "metadata": {},
     "output_type": "execute_result"
    }
   ],
   "source": [
    "close = set(df['id']) - far\n",
    "len(df[(df['id'].isin(close)) & (df['i']==80) & (df['next']==\"div\")]) + len(df[(df['id'].isin(close)) & (df['i']==60) & (df['next']==\"div\")])"
   ]
  },
  {
   "cell_type": "code",
   "execution_count": null,
   "id": "51a36d0e",
   "metadata": {},
   "outputs": [],
   "source": []
  }
 ],
 "metadata": {
  "kernelspec": {
   "display_name": "Python 3 (ipykernel)",
   "language": "python",
   "name": "python3"
  },
  "language_info": {
   "codemirror_mode": {
    "name": "ipython",
    "version": 3
   },
   "file_extension": ".py",
   "mimetype": "text/x-python",
   "name": "python",
   "nbconvert_exporter": "python",
   "pygments_lexer": "ipython3",
   "version": "3.9.10"
  }
 },
 "nbformat": 4,
 "nbformat_minor": 5
}
